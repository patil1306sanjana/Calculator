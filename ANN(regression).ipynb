{
  "nbformat": 4,
  "nbformat_minor": 0,
  "metadata": {
    "colab": {
      "provenance": [],
      "authorship_tag": "ABX9TyMZ8fLEu2kWCeUsbk0bRC1i",
      "include_colab_link": true
    },
    "kernelspec": {
      "name": "python3",
      "display_name": "Python 3"
    },
    "language_info": {
      "name": "python"
    }
  },
  "cells": [
    {
      "cell_type": "markdown",
      "metadata": {
        "id": "view-in-github",
        "colab_type": "text"
      },
      "source": [
        "<a href=\"https://colab.research.google.com/github/patil1306sanjana/Classifier_Model/blob/main/ANN(regression).ipynb\" target=\"_parent\"><img src=\"https://colab.research.google.com/assets/colab-badge.svg\" alt=\"Open In Colab\"/></a>"
      ]
    },
    {
      "cell_type": "code",
      "execution_count": null,
      "metadata": {
        "id": "EBHunrBuTrOO"
      },
      "outputs": [],
      "source": [
        "pip install tensorflow"
      ]
    },
    {
      "cell_type": "code",
      "source": [
        "pip install tensorflow-gpu"
      ],
      "metadata": {
        "id": "BhmZWvFsUERc"
      },
      "execution_count": null,
      "outputs": []
    },
    {
      "cell_type": "code",
      "source": [
        "import tensorflow as tf\n",
        "from tensorflow import keras\n",
        "from tensorflow.keras import Sequential\n",
        "from tensorflow.keras.layers import Flatten, Dense"
      ],
      "metadata": {
        "id": "3Wb9YzYbUGVc"
      },
      "execution_count": null,
      "outputs": []
    },
    {
      "cell_type": "code",
      "source": [
        "import numpy as np\n",
        "import pandas as pd\n",
        "from sklearn.model_selection import train_test_split"
      ],
      "metadata": {
        "id": "lgoB8GD5UKC1"
      },
      "execution_count": null,
      "outputs": []
    },
    {
      "cell_type": "code",
      "source": [
        "dataset = pd.read_csv('fish.csv')"
      ],
      "metadata": {
        "id": "XheXXGOQURSU"
      },
      "execution_count": null,
      "outputs": []
    },
    {
      "cell_type": "code",
      "source": [
        "dataset.head()"
      ],
      "metadata": {
        "colab": {
          "base_uri": "https://localhost:8080/",
          "height": 206
        },
        "id": "XZ8G2zlpUim7",
        "outputId": "39fb704c-c863-482d-e195-80bc3d7e0cf2"
      },
      "execution_count": null,
      "outputs": [
        {
          "output_type": "execute_result",
          "data": {
            "text/plain": [
              "  Species  Weight  Length1  Length2  Length3   Height   Width\n",
              "0   Bream   242.0     23.2     25.4     30.0  11.5200  4.0200\n",
              "1   Bream   290.0     24.0     26.3     31.2  12.4800  4.3056\n",
              "2   Bream   340.0     23.9     26.5     31.1  12.3778  4.6961\n",
              "3   Bream   363.0     26.3     29.0     33.5  12.7300  4.4555\n",
              "4   Bream   430.0     26.5     29.0     34.0  12.4440  5.1340"
            ],
            "text/html": [
              "\n",
              "  <div id=\"df-8ed84c7d-369d-4d0e-89ac-cb71ffd90bbe\">\n",
              "    <div class=\"colab-df-container\">\n",
              "      <div>\n",
              "<style scoped>\n",
              "    .dataframe tbody tr th:only-of-type {\n",
              "        vertical-align: middle;\n",
              "    }\n",
              "\n",
              "    .dataframe tbody tr th {\n",
              "        vertical-align: top;\n",
              "    }\n",
              "\n",
              "    .dataframe thead th {\n",
              "        text-align: right;\n",
              "    }\n",
              "</style>\n",
              "<table border=\"1\" class=\"dataframe\">\n",
              "  <thead>\n",
              "    <tr style=\"text-align: right;\">\n",
              "      <th></th>\n",
              "      <th>Species</th>\n",
              "      <th>Weight</th>\n",
              "      <th>Length1</th>\n",
              "      <th>Length2</th>\n",
              "      <th>Length3</th>\n",
              "      <th>Height</th>\n",
              "      <th>Width</th>\n",
              "    </tr>\n",
              "  </thead>\n",
              "  <tbody>\n",
              "    <tr>\n",
              "      <th>0</th>\n",
              "      <td>Bream</td>\n",
              "      <td>242.0</td>\n",
              "      <td>23.2</td>\n",
              "      <td>25.4</td>\n",
              "      <td>30.0</td>\n",
              "      <td>11.5200</td>\n",
              "      <td>4.0200</td>\n",
              "    </tr>\n",
              "    <tr>\n",
              "      <th>1</th>\n",
              "      <td>Bream</td>\n",
              "      <td>290.0</td>\n",
              "      <td>24.0</td>\n",
              "      <td>26.3</td>\n",
              "      <td>31.2</td>\n",
              "      <td>12.4800</td>\n",
              "      <td>4.3056</td>\n",
              "    </tr>\n",
              "    <tr>\n",
              "      <th>2</th>\n",
              "      <td>Bream</td>\n",
              "      <td>340.0</td>\n",
              "      <td>23.9</td>\n",
              "      <td>26.5</td>\n",
              "      <td>31.1</td>\n",
              "      <td>12.3778</td>\n",
              "      <td>4.6961</td>\n",
              "    </tr>\n",
              "    <tr>\n",
              "      <th>3</th>\n",
              "      <td>Bream</td>\n",
              "      <td>363.0</td>\n",
              "      <td>26.3</td>\n",
              "      <td>29.0</td>\n",
              "      <td>33.5</td>\n",
              "      <td>12.7300</td>\n",
              "      <td>4.4555</td>\n",
              "    </tr>\n",
              "    <tr>\n",
              "      <th>4</th>\n",
              "      <td>Bream</td>\n",
              "      <td>430.0</td>\n",
              "      <td>26.5</td>\n",
              "      <td>29.0</td>\n",
              "      <td>34.0</td>\n",
              "      <td>12.4440</td>\n",
              "      <td>5.1340</td>\n",
              "    </tr>\n",
              "  </tbody>\n",
              "</table>\n",
              "</div>\n",
              "      <button class=\"colab-df-convert\" onclick=\"convertToInteractive('df-8ed84c7d-369d-4d0e-89ac-cb71ffd90bbe')\"\n",
              "              title=\"Convert this dataframe to an interactive table.\"\n",
              "              style=\"display:none;\">\n",
              "        \n",
              "  <svg xmlns=\"http://www.w3.org/2000/svg\" height=\"24px\"viewBox=\"0 0 24 24\"\n",
              "       width=\"24px\">\n",
              "    <path d=\"M0 0h24v24H0V0z\" fill=\"none\"/>\n",
              "    <path d=\"M18.56 5.44l.94 2.06.94-2.06 2.06-.94-2.06-.94-.94-2.06-.94 2.06-2.06.94zm-11 1L8.5 8.5l.94-2.06 2.06-.94-2.06-.94L8.5 2.5l-.94 2.06-2.06.94zm10 10l.94 2.06.94-2.06 2.06-.94-2.06-.94-.94-2.06-.94 2.06-2.06.94z\"/><path d=\"M17.41 7.96l-1.37-1.37c-.4-.4-.92-.59-1.43-.59-.52 0-1.04.2-1.43.59L10.3 9.45l-7.72 7.72c-.78.78-.78 2.05 0 2.83L4 21.41c.39.39.9.59 1.41.59.51 0 1.02-.2 1.41-.59l7.78-7.78 2.81-2.81c.8-.78.8-2.07 0-2.86zM5.41 20L4 18.59l7.72-7.72 1.47 1.35L5.41 20z\"/>\n",
              "  </svg>\n",
              "      </button>\n",
              "      \n",
              "  <style>\n",
              "    .colab-df-container {\n",
              "      display:flex;\n",
              "      flex-wrap:wrap;\n",
              "      gap: 12px;\n",
              "    }\n",
              "\n",
              "    .colab-df-convert {\n",
              "      background-color: #E8F0FE;\n",
              "      border: none;\n",
              "      border-radius: 50%;\n",
              "      cursor: pointer;\n",
              "      display: none;\n",
              "      fill: #1967D2;\n",
              "      height: 32px;\n",
              "      padding: 0 0 0 0;\n",
              "      width: 32px;\n",
              "    }\n",
              "\n",
              "    .colab-df-convert:hover {\n",
              "      background-color: #E2EBFA;\n",
              "      box-shadow: 0px 1px 2px rgba(60, 64, 67, 0.3), 0px 1px 3px 1px rgba(60, 64, 67, 0.15);\n",
              "      fill: #174EA6;\n",
              "    }\n",
              "\n",
              "    [theme=dark] .colab-df-convert {\n",
              "      background-color: #3B4455;\n",
              "      fill: #D2E3FC;\n",
              "    }\n",
              "\n",
              "    [theme=dark] .colab-df-convert:hover {\n",
              "      background-color: #434B5C;\n",
              "      box-shadow: 0px 1px 3px 1px rgba(0, 0, 0, 0.15);\n",
              "      filter: drop-shadow(0px 1px 2px rgba(0, 0, 0, 0.3));\n",
              "      fill: #FFFFFF;\n",
              "    }\n",
              "  </style>\n",
              "\n",
              "      <script>\n",
              "        const buttonEl =\n",
              "          document.querySelector('#df-8ed84c7d-369d-4d0e-89ac-cb71ffd90bbe button.colab-df-convert');\n",
              "        buttonEl.style.display =\n",
              "          google.colab.kernel.accessAllowed ? 'block' : 'none';\n",
              "\n",
              "        async function convertToInteractive(key) {\n",
              "          const element = document.querySelector('#df-8ed84c7d-369d-4d0e-89ac-cb71ffd90bbe');\n",
              "          const dataTable =\n",
              "            await google.colab.kernel.invokeFunction('convertToInteractive',\n",
              "                                                     [key], {});\n",
              "          if (!dataTable) return;\n",
              "\n",
              "          const docLinkHtml = 'Like what you see? Visit the ' +\n",
              "            '<a target=\"_blank\" href=https://colab.research.google.com/notebooks/data_table.ipynb>data table notebook</a>'\n",
              "            + ' to learn more about interactive tables.';\n",
              "          element.innerHTML = '';\n",
              "          dataTable['output_type'] = 'display_data';\n",
              "          await google.colab.output.renderOutput(dataTable, element);\n",
              "          const docLink = document.createElement('div');\n",
              "          docLink.innerHTML = docLinkHtml;\n",
              "          element.appendChild(docLink);\n",
              "        }\n",
              "      </script>\n",
              "    </div>\n",
              "  </div>\n",
              "  "
            ]
          },
          "metadata": {},
          "execution_count": 7
        }
      ]
    },
    {
      "cell_type": "code",
      "source": [
        "X = dataset.drop(labels=['Species','Weight' ],axis = 1)"
      ],
      "metadata": {
        "id": "Ys_A2pbHUlqT"
      },
      "execution_count": null,
      "outputs": []
    },
    {
      "cell_type": "code",
      "source": [
        "y = dataset['Weight'].astype(\"int32\")"
      ],
      "metadata": {
        "id": "L5cUboZTVMBU"
      },
      "execution_count": null,
      "outputs": []
    },
    {
      "cell_type": "code",
      "source": [
        "X.head()"
      ],
      "metadata": {
        "colab": {
          "base_uri": "https://localhost:8080/",
          "height": 206
        },
        "id": "aL8JgEVGVRBc",
        "outputId": "8c3e6c85-6e66-4430-a4cb-75e167e89426"
      },
      "execution_count": null,
      "outputs": [
        {
          "output_type": "execute_result",
          "data": {
            "text/plain": [
              "   Length1  Length2  Length3   Height   Width\n",
              "0     23.2     25.4     30.0  11.5200  4.0200\n",
              "1     24.0     26.3     31.2  12.4800  4.3056\n",
              "2     23.9     26.5     31.1  12.3778  4.6961\n",
              "3     26.3     29.0     33.5  12.7300  4.4555\n",
              "4     26.5     29.0     34.0  12.4440  5.1340"
            ],
            "text/html": [
              "\n",
              "  <div id=\"df-831fd527-c742-49c5-b166-a2a50e669852\">\n",
              "    <div class=\"colab-df-container\">\n",
              "      <div>\n",
              "<style scoped>\n",
              "    .dataframe tbody tr th:only-of-type {\n",
              "        vertical-align: middle;\n",
              "    }\n",
              "\n",
              "    .dataframe tbody tr th {\n",
              "        vertical-align: top;\n",
              "    }\n",
              "\n",
              "    .dataframe thead th {\n",
              "        text-align: right;\n",
              "    }\n",
              "</style>\n",
              "<table border=\"1\" class=\"dataframe\">\n",
              "  <thead>\n",
              "    <tr style=\"text-align: right;\">\n",
              "      <th></th>\n",
              "      <th>Length1</th>\n",
              "      <th>Length2</th>\n",
              "      <th>Length3</th>\n",
              "      <th>Height</th>\n",
              "      <th>Width</th>\n",
              "    </tr>\n",
              "  </thead>\n",
              "  <tbody>\n",
              "    <tr>\n",
              "      <th>0</th>\n",
              "      <td>23.2</td>\n",
              "      <td>25.4</td>\n",
              "      <td>30.0</td>\n",
              "      <td>11.5200</td>\n",
              "      <td>4.0200</td>\n",
              "    </tr>\n",
              "    <tr>\n",
              "      <th>1</th>\n",
              "      <td>24.0</td>\n",
              "      <td>26.3</td>\n",
              "      <td>31.2</td>\n",
              "      <td>12.4800</td>\n",
              "      <td>4.3056</td>\n",
              "    </tr>\n",
              "    <tr>\n",
              "      <th>2</th>\n",
              "      <td>23.9</td>\n",
              "      <td>26.5</td>\n",
              "      <td>31.1</td>\n",
              "      <td>12.3778</td>\n",
              "      <td>4.6961</td>\n",
              "    </tr>\n",
              "    <tr>\n",
              "      <th>3</th>\n",
              "      <td>26.3</td>\n",
              "      <td>29.0</td>\n",
              "      <td>33.5</td>\n",
              "      <td>12.7300</td>\n",
              "      <td>4.4555</td>\n",
              "    </tr>\n",
              "    <tr>\n",
              "      <th>4</th>\n",
              "      <td>26.5</td>\n",
              "      <td>29.0</td>\n",
              "      <td>34.0</td>\n",
              "      <td>12.4440</td>\n",
              "      <td>5.1340</td>\n",
              "    </tr>\n",
              "  </tbody>\n",
              "</table>\n",
              "</div>\n",
              "      <button class=\"colab-df-convert\" onclick=\"convertToInteractive('df-831fd527-c742-49c5-b166-a2a50e669852')\"\n",
              "              title=\"Convert this dataframe to an interactive table.\"\n",
              "              style=\"display:none;\">\n",
              "        \n",
              "  <svg xmlns=\"http://www.w3.org/2000/svg\" height=\"24px\"viewBox=\"0 0 24 24\"\n",
              "       width=\"24px\">\n",
              "    <path d=\"M0 0h24v24H0V0z\" fill=\"none\"/>\n",
              "    <path d=\"M18.56 5.44l.94 2.06.94-2.06 2.06-.94-2.06-.94-.94-2.06-.94 2.06-2.06.94zm-11 1L8.5 8.5l.94-2.06 2.06-.94-2.06-.94L8.5 2.5l-.94 2.06-2.06.94zm10 10l.94 2.06.94-2.06 2.06-.94-2.06-.94-.94-2.06-.94 2.06-2.06.94z\"/><path d=\"M17.41 7.96l-1.37-1.37c-.4-.4-.92-.59-1.43-.59-.52 0-1.04.2-1.43.59L10.3 9.45l-7.72 7.72c-.78.78-.78 2.05 0 2.83L4 21.41c.39.39.9.59 1.41.59.51 0 1.02-.2 1.41-.59l7.78-7.78 2.81-2.81c.8-.78.8-2.07 0-2.86zM5.41 20L4 18.59l7.72-7.72 1.47 1.35L5.41 20z\"/>\n",
              "  </svg>\n",
              "      </button>\n",
              "      \n",
              "  <style>\n",
              "    .colab-df-container {\n",
              "      display:flex;\n",
              "      flex-wrap:wrap;\n",
              "      gap: 12px;\n",
              "    }\n",
              "\n",
              "    .colab-df-convert {\n",
              "      background-color: #E8F0FE;\n",
              "      border: none;\n",
              "      border-radius: 50%;\n",
              "      cursor: pointer;\n",
              "      display: none;\n",
              "      fill: #1967D2;\n",
              "      height: 32px;\n",
              "      padding: 0 0 0 0;\n",
              "      width: 32px;\n",
              "    }\n",
              "\n",
              "    .colab-df-convert:hover {\n",
              "      background-color: #E2EBFA;\n",
              "      box-shadow: 0px 1px 2px rgba(60, 64, 67, 0.3), 0px 1px 3px 1px rgba(60, 64, 67, 0.15);\n",
              "      fill: #174EA6;\n",
              "    }\n",
              "\n",
              "    [theme=dark] .colab-df-convert {\n",
              "      background-color: #3B4455;\n",
              "      fill: #D2E3FC;\n",
              "    }\n",
              "\n",
              "    [theme=dark] .colab-df-convert:hover {\n",
              "      background-color: #434B5C;\n",
              "      box-shadow: 0px 1px 3px 1px rgba(0, 0, 0, 0.15);\n",
              "      filter: drop-shadow(0px 1px 2px rgba(0, 0, 0, 0.3));\n",
              "      fill: #FFFFFF;\n",
              "    }\n",
              "  </style>\n",
              "\n",
              "      <script>\n",
              "        const buttonEl =\n",
              "          document.querySelector('#df-831fd527-c742-49c5-b166-a2a50e669852 button.colab-df-convert');\n",
              "        buttonEl.style.display =\n",
              "          google.colab.kernel.accessAllowed ? 'block' : 'none';\n",
              "\n",
              "        async function convertToInteractive(key) {\n",
              "          const element = document.querySelector('#df-831fd527-c742-49c5-b166-a2a50e669852');\n",
              "          const dataTable =\n",
              "            await google.colab.kernel.invokeFunction('convertToInteractive',\n",
              "                                                     [key], {});\n",
              "          if (!dataTable) return;\n",
              "\n",
              "          const docLinkHtml = 'Like what you see? Visit the ' +\n",
              "            '<a target=\"_blank\" href=https://colab.research.google.com/notebooks/data_table.ipynb>data table notebook</a>'\n",
              "            + ' to learn more about interactive tables.';\n",
              "          element.innerHTML = '';\n",
              "          dataTable['output_type'] = 'display_data';\n",
              "          await google.colab.output.renderOutput(dataTable, element);\n",
              "          const docLink = document.createElement('div');\n",
              "          docLink.innerHTML = docLinkHtml;\n",
              "          element.appendChild(docLink);\n",
              "        }\n",
              "      </script>\n",
              "    </div>\n",
              "  </div>\n",
              "  "
            ]
          },
          "metadata": {},
          "execution_count": 10
        }
      ]
    },
    {
      "cell_type": "code",
      "source": [
        "y.head()"
      ],
      "metadata": {
        "colab": {
          "base_uri": "https://localhost:8080/"
        },
        "id": "EMwtgVGoVS7k",
        "outputId": "48970022-3d03-4315-f9ef-0ba32e3b4391"
      },
      "execution_count": null,
      "outputs": [
        {
          "output_type": "execute_result",
          "data": {
            "text/plain": [
              "0    242\n",
              "1    290\n",
              "2    340\n",
              "3    363\n",
              "4    430\n",
              "Name: Weight, dtype: int32"
            ]
          },
          "metadata": {},
          "execution_count": 11
        }
      ]
    },
    {
      "cell_type": "markdown",
      "source": [
        "Feature Standardization"
      ],
      "metadata": {
        "id": "rh0EQyaLVj-2"
      }
    },
    {
      "cell_type": "code",
      "source": [
        "from sklearn.preprocessing import StandardScaler"
      ],
      "metadata": {
        "id": "jG9Eh6WbVjsE"
      },
      "execution_count": null,
      "outputs": []
    },
    {
      "cell_type": "code",
      "source": [
        "X_train, X_test, y_train, y_test = train_test_split(X, y, test_size = 0.2, random_state = 0)"
      ],
      "metadata": {
        "id": "BZpQ5O5tVzV8"
      },
      "execution_count": null,
      "outputs": []
    },
    {
      "cell_type": "code",
      "source": [
        "y_test"
      ],
      "metadata": {
        "colab": {
          "base_uri": "https://localhost:8080/"
        },
        "id": "7a14w98Nhz1T",
        "outputId": "1c0f56a2-e14d-4d30-e903-a7721d3c15f2"
      },
      "execution_count": null,
      "outputs": [
        {
          "output_type": "execute_result",
          "data": {
            "text/plain": [
              "7       390\n",
              "40        0\n",
              "95      170\n",
              "45      160\n",
              "110     556\n",
              "120     900\n",
              "59      800\n",
              "131     300\n",
              "33      975\n",
              "83      115\n",
              "128     200\n",
              "134     456\n",
              "60     1000\n",
              "126    1000\n",
              "62       60\n",
              "37       78\n",
              "44      145\n",
              "142    1600\n",
              "85      130\n",
              "26      720\n",
              "61       55\n",
              "54      390\n",
              "86      120\n",
              "144    1650\n",
              "63       90\n",
              "8       450\n",
              "24      700\n",
              "56      270\n",
              "119     850\n",
              "148       9\n",
              "19      650\n",
              "90      110\n",
              "Name: Weight, dtype: int32"
            ]
          },
          "metadata": {},
          "execution_count": 14
        }
      ]
    },
    {
      "cell_type": "code",
      "source": [
        "scaler = StandardScaler()\n",
        "X_train = scaler.fit_transform(X_train)\n",
        "X_test = scaler.transform(X_test)"
      ],
      "metadata": {
        "id": "QcBneW79XBqs"
      },
      "execution_count": null,
      "outputs": []
    },
    {
      "cell_type": "code",
      "source": [
        "X_train"
      ],
      "metadata": {
        "colab": {
          "base_uri": "https://localhost:8080/"
        },
        "id": "SM_tOGxFXG5r",
        "outputId": "3cc0c546-974f-4dcc-d1b5-a151e6ddc620"
      },
      "execution_count": null,
      "outputs": [
        {
          "output_type": "execute_result",
          "data": {
            "text/plain": [
              "array([[ 3.17091789e+00,  3.13904375e+00,  2.98953375e+00,\n",
              "         1.65693045e-01,  1.08366267e+00],\n",
              "       [ 7.32808723e-01,  7.00466821e-01,  7.34116902e-01,\n",
              "        -6.72599948e-01,  2.51889882e-02],\n",
              "       [ 4.92137003e-01,  5.05380667e-01,  6.89366567e-01,\n",
              "         1.36936060e+00,  5.67178524e-01],\n",
              "       [-3.86837976e-01, -3.72507027e-01, -4.56241991e-01,\n",
              "        -3.62187165e-01, -3.72671033e-01],\n",
              "       [ 1.25897428e-01,  8.59454356e-02, -4.45389154e-02,\n",
              "        -2.95326914e-01,  1.76176084e-01],\n",
              "       [ 6.07240869e-01,  6.51695282e-01,  8.14667504e-01,\n",
              "         1.52090593e+00,  5.63990350e-01],\n",
              "       [ 8.68840565e-01,  7.98009898e-01,  6.89366567e-01,\n",
              "         3.96592013e-01,  1.44266306e+00],\n",
              "       [-5.96117732e-01, -5.67593181e-01, -6.35243328e-01,\n",
              "        -6.86649296e-01, -4.91776391e-01],\n",
              "       [ 5.02600991e-01,  4.85872051e-01,  3.04513692e-01,\n",
              "         2.64084241e-01,  1.00786835e+00],\n",
              "       [-1.24488498e+00, -1.25039472e+00, -1.30649834e+00,\n",
              "        -1.15595242e+00, -1.14926203e+00],\n",
              "       [-3.86837976e-01, -3.72507027e-01, -4.56241991e-01,\n",
              "        -5.72240928e-01, -3.11313727e-01],\n",
              "       [ 7.32808723e-01,  7.98009898e-01,  9.75768707e-01,\n",
              "         1.74841841e+00,  9.07711571e-01],\n",
              "       [-1.30766891e+00, -1.31867487e+00, -1.37809888e+00,\n",
              "        -1.37360290e+00, -1.36870463e+00],\n",
              "       [-2.29878158e-01, -2.16438103e-01, -3.21990988e-01,\n",
              "        -5.29681015e-01, -6.22752498e-02],\n",
              "       [-2.19414170e-01, -2.55455334e-01, -2.41440386e-01,\n",
              "        -4.09414939e-01, -2.62588807e-01],\n",
              "       [-7.29183405e-02, -1.28649334e-01, -2.32490320e-01,\n",
              "        -3.90789257e-01, -1.19421760e-01],\n",
              "       [ 5.44456942e-01,  5.54152205e-01,  7.16216768e-01,\n",
              "         1.54614441e+00,  4.75984724e-01],\n",
              "       [ 2.20073319e-01,  2.12751436e-01,  8.97120875e-02,\n",
              "        -2.88370886e-01,  2.58106134e-01],\n",
              "       [ 9.73480444e-01,  1.04186759e+00,  1.20847045e+00,\n",
              "         2.09619696e+00,  1.18129297e+00],\n",
              "       [-1.38091682e+00, -1.37720072e+00, -1.42284921e+00,\n",
              "        -1.22368217e+00, -1.40960950e+00],\n",
              "       [-1.42277277e+00, -1.44548087e+00, -1.50339981e+00,\n",
              "        -1.50993191e+00, -1.85679598e+00],\n",
              "       [-1.88022207e-01, -1.28649334e-01,  4.49617532e-02,\n",
              "         8.01300173e-01,  2.12689696e-01],\n",
              "       [-8.26325465e-01, -8.01696566e-01, -8.76895134e-01,\n",
              "        -8.55378757e-01, -7.85449300e-01],\n",
              "       [-5.54261781e-01, -5.67593181e-01, -5.27842526e-01,\n",
              "        -7.02780876e-01, -3.53782607e-01],\n",
              "       [-1.77558219e-01, -1.77420872e-01, -1.42989651e-01,\n",
              "         5.70241034e-01, -6.52829609e-02],\n",
              "       [ 2.82857246e-01,  3.10294513e-01,  5.01415163e-01,\n",
              "         1.23261972e+00,  4.58179074e-01],\n",
              "       [-1.55880461e+00, -1.61130410e+00, -1.61080062e+00,\n",
              "        -1.57830235e+00, -1.83911064e+00],\n",
              "       [ 1.02580038e+00,  9.93096052e-01,  8.86268038e-01,\n",
              "        -3.62873615e-01,  1.40745248e-01],\n",
              "       [-1.49602069e+00, -1.54302395e+00, -1.55710022e+00,\n",
              "        -1.52654401e+00, -1.92140162e+00],\n",
              "       [-1.64251652e+00, -1.68933857e+00, -1.70030129e+00,\n",
              "        -1.57972102e+00, -1.91442373e+00],\n",
              "       [-7.00757611e-01, -6.94399181e-01, -6.62093529e-01,\n",
              "        -7.74018552e-02, -6.30492026e-01],\n",
              "       [-5.22869818e-01, -4.99313027e-01, -5.72592860e-01,\n",
              "        -6.68755827e-01, -4.28614459e-01],\n",
              "       [-4.91477854e-01, -4.70050104e-01, -5.45742660e-01,\n",
              "        -8.36867483e-01, -4.31020627e-01],\n",
              "       [-1.71576443e+00, -1.75761872e+00, -1.77190182e+00,\n",
              "        -1.63308108e+00, -1.98203707e+00],\n",
              "       [ 2.75235838e+00,  2.74887144e+00,  2.60468088e+00,\n",
              "         4.14256665e-01,  1.58949952e+00],\n",
              "       [ 1.50714382e+00,  1.48081144e+00,  1.33377138e+00,\n",
              "         8.32121788e-01,  1.84912514e+00],\n",
              "       [ 1.19322419e+00,  1.18818221e+00,  1.06526938e+00,\n",
              "         5.16926734e-01,  1.37601219e+00],\n",
              "       [-3.76373988e-01, -4.21278565e-01, -3.39891122e-01,\n",
              "        -3.38435987e-01, -1.29527669e-01],\n",
              "       [-3.24054049e-01, -3.13981180e-01, -3.93591523e-01,\n",
              "        -4.90233010e-01, -1.06308140e-01],\n",
              "       [-5.43797793e-01, -5.18821642e-01, -5.90492994e-01,\n",
              "        -4.76824349e-01, -4.32223712e-01],\n",
              "       [-8.57717428e-01, -8.60222412e-01, -8.32144799e-01,\n",
              "        -1.10671809e-01, -8.56852361e-01],\n",
              "       [ 1.14090425e+00,  1.09063913e+00,  9.57868573e-01,\n",
              "         8.13541869e-01,  1.80996474e+00],\n",
              "       [ 2.12575501e-02,  1.76652817e-02, -1.07189383e-01,\n",
              "        -2.41509218e-01, -8.32089189e-02],\n",
              "       [-4.70549878e-01, -4.70050104e-01, -4.29391791e-01,\n",
              "         3.36344566e-01, -4.08402640e-01],\n",
              "       [-3.86837976e-01, -4.31032873e-01, -3.48841189e-01,\n",
              "        -4.48611246e-01, -4.27892608e-01],\n",
              "       [-3.86837976e-01, -3.72507027e-01, -3.04090854e-01,\n",
              "        -3.06950805e-01, -3.05177996e-01],\n",
              "       [ 3.97961112e-01,  4.07837590e-01,  5.99865899e-01,\n",
              "         1.15255674e+00,  4.39290649e-01],\n",
              "       [ 1.83152745e+00,  1.77344067e+00,  1.62017352e+00,\n",
              "        -2.48007613e-01,  3.17297888e-01],\n",
              "       [ 6.38632833e-01,  7.00466821e-01,  8.95218105e-01,\n",
              "         1.50852694e+00,  1.07560200e+00],\n",
              "       [ 7.11880748e-01,  7.00466821e-01,  5.99865899e-01,\n",
              "         5.97790569e-01,  2.07722994e+00],\n",
              "       [ 5.86312893e-01,  6.02923744e-01,  7.96767370e-01,\n",
              "         1.43070637e+00,  7.38076667e-01],\n",
              "       [ 3.87497124e-01,  4.07837590e-01,  5.90915832e-01,\n",
              "         1.50152515e+00,  7.44392860e-01],\n",
              "       [-9.30965343e-01, -8.89485335e-01, -1.00219607e+00,\n",
              "        -8.41283646e-01, -7.33355744e-01],\n",
              "       [-1.77558219e-01, -1.77420872e-01, -1.25089517e-01,\n",
              "         2.12781547e-04,  9.28023331e-02],\n",
              "       [-1.04606921e+00, -1.01629134e+00, -1.08274667e+00,\n",
              "        -9.81136435e-01, -8.42776273e-01],\n",
              "       [ 6.31135015e-02,  1.15208359e-01,  2.59763358e-01,\n",
              "         8.81889428e-01,  6.79586396e-02],\n",
              "       [-1.24488498e+00, -1.25039472e+00, -1.28859821e+00,\n",
              "        -1.36001119e+00, -1.48179457e+00],\n",
              "       [ 1.49667984e+00,  1.43203990e+00,  1.33377138e+00,\n",
              "        -4.69273397e-01,  7.00640374e-02],\n",
              "       [ 1.15433441e-01,  1.83488513e-01,  3.49264027e-01,\n",
              "         1.21355929e+00,  5.63027882e-01],\n",
              "       [-6.17045708e-01, -6.16364719e-01, -5.81542927e-01,\n",
              "         1.96903648e-01, -7.13083772e-01],\n",
              "       [-1.11931712e+00, -1.13334303e+00, -1.19909754e+00,\n",
              "        -9.80129641e-01, -1.02919421e+00],\n",
              "       [-7.00757611e-01, -6.65136258e-01, -7.24743997e-01,\n",
              "        -7.28408350e-01, -4.06056625e-01],\n",
              "       [ 8.68840565e-01,  8.46781437e-01,  7.52017035e-01,\n",
              "         4.58807283e-01,  1.51677306e+00],\n",
              "       [ 3.56105161e-01,  3.59066051e-01,  5.19315297e-01,\n",
              "         1.11738761e+00,  1.53236958e-02],\n",
              "       [ 1.18276020e+00,  1.18818221e+00,  1.05631931e+00,\n",
              "         8.01986624e-01,  1.87673592e+00],\n",
              "       [ 3.87497124e-01,  4.07837590e-01,  5.90915832e-01,\n",
              "         1.39086937e+00,  4.98241786e-01],\n",
              "       [ 1.39203996e+00,  1.38326836e+00,  1.25322078e+00,\n",
              "         8.97952363e-01,  1.51941985e+00],\n",
              "       [-5.43797793e-01, -5.18821642e-01, -5.90492994e-01,\n",
              "        -6.90996814e-01, -4.32223712e-01],\n",
              "       [ 1.50714382e+00,  1.48081144e+00,  1.36062158e+00,\n",
              "        -2.49380514e-01,  4.73458247e-01],\n",
              "       [-4.91477854e-01, -5.18821642e-01, -5.00992325e-01,\n",
              "        -5.32197999e-01, -6.12084834e-01],\n",
              "       [ 3.14249210e-01,  3.10294513e-01,  5.01415163e-01,\n",
              "         1.25746922e+00,  2.83972449e-01],\n",
              "       [-5.19903648e-02, -5.06148723e-02, -1.69839852e-01,\n",
              "        -1.26505927e-01,  4.78090122e-01],\n",
              "       [-1.33906087e+00, -1.33818349e+00, -1.28859821e+00,\n",
              "        -1.08199885e+00, -1.24791495e+00],\n",
              "       [-1.01344134e-02,  1.76652817e-02,  1.81115526e-02,\n",
              "        -2.23943119e-02,  2.03967334e-01],\n",
              "       [-6.90293623e-01, -6.84644873e-01, -6.71043596e-01,\n",
              "        -6.19674637e-01, -5.69555799e-01],\n",
              "       [-1.46462872e+00, -1.50400672e+00, -1.53025001e+00,\n",
              "        -1.47492295e+00, -1.84885563e+00],\n",
              "       [-7.63541538e-01, -7.62679335e-01, -7.33694064e-01,\n",
              "         3.87384932e-03, -6.31454493e-01],\n",
              "       [-1.77558219e-01, -1.48157949e-01,  5.39118201e-02,\n",
              "         8.24685244e-01, -2.22125383e-02],\n",
              "       [ 6.28168845e-01,  6.02923744e-01,  6.44616233e-01,\n",
              "        -7.24907454e-01, -1.11000169e-01],\n",
              "       [-1.63205253e+00, -1.67958426e+00, -1.70030129e+00,\n",
              "        -1.63546077e+00, -1.92140162e+00],\n",
              "       [-6.58901659e-01, -6.65136258e-01, -6.17343195e-01,\n",
              "        -6.31824806e-01, -6.30552180e-01],\n",
              "       [-3.10623891e-02, -3.11062569e-02, -1.51939718e-01,\n",
              "        -3.64521095e-01,  1.34549363e-01],\n",
              "       [ 8.40414771e-02,  1.15208359e-01,  3.04513692e-01,\n",
              "         8.16447841e-01,  4.76105032e-01],\n",
              "       [ 1.70595959e+00,  1.67589759e+00,  1.55752305e+00,\n",
              "        -4.38383138e-01,  3.32937985e-01],\n",
              "       [ 4.92137003e-01,  5.05380667e-01,  7.07266701e-01,\n",
              "         1.38711678e+00,  5.14302963e-01],\n",
              "       [ 1.13044026e+00,  1.09063913e+00,  9.66818640e-01,\n",
              "         5.17292841e-01,  1.89538373e+00],\n",
              "       [-3.10623891e-02, -3.11062569e-02, -1.51939718e-01,\n",
              "        -4.17423525e-01, -4.52719723e-03],\n",
              "       [-7.84469514e-01, -7.82187950e-01, -7.51594198e-01,\n",
              "        -7.45775540e-01, -7.02556783e-01],\n",
              "       [ 1.15433441e-01,  1.83488513e-01,  3.67164160e-01,\n",
              "         1.08150915e+00,  3.51826411e-01],\n",
              "       [-7.29183405e-02, -7.98777954e-02,  2.11418902e-04,\n",
              "        -7.04458265e-02,  2.59309218e-01],\n",
              "       [-1.50648467e+00, -1.56253257e+00, -1.56605028e+00,\n",
              "        -1.52437025e+00, -1.91087463e+00],\n",
              "       [ 1.47575186e+00,  1.48081144e+00,  1.30692118e+00,\n",
              "         6.99476726e-01,  1.76533031e+00],\n",
              "       [-2.61270122e-01, -2.35946719e-01, -5.34889823e-02,\n",
              "         6.05021178e-01, -1.94012995e-01],\n",
              "       [ 1.28740008e+00,  1.28572528e+00,  1.42327205e+00,\n",
              "         2.00160412e+00,  1.21991198e+00],\n",
              "       [ 7.43272711e-01,  7.98009898e-01,  9.84718774e-01,\n",
              "         1.83367552e+00,  1.11638657e+00],\n",
              "       [-2.19414170e-01, -1.77420872e-01, -1.69839852e-01,\n",
              "        -1.13371846e-01, -5.71019868e-02],\n",
              "       [ 9.21160504e-01,  8.95552975e-01,  7.87817303e-01,\n",
              "         4.48281714e-01,  1.15620866e+00],\n",
              "       [ 9.73480444e-01,  1.04186759e+00,  1.19952038e+00,\n",
              "         2.10697423e+00,  1.17269092e+00],\n",
              "       [ 1.07812032e+00,  1.04186759e+00,  9.31018373e-01,\n",
              "        -5.67435777e-01, -2.19879310e-01],\n",
              "       [ 1.61178370e+00,  1.57835451e+00,  1.43222212e+00,\n",
              "         8.26698831e-01,  1.95698166e+00],\n",
              "       [ 1.99895125e+00,  1.96852682e+00,  1.84392519e+00,\n",
              "        -2.73635088e-01,  6.21678248e-01],\n",
              "       [ 1.09904830e+00,  1.13941067e+00,  1.31587125e+00,\n",
              "         2.26032721e+00,  1.44801679e+00],\n",
              "       [ 8.16520626e-01,  8.95552975e-01,  1.07421944e+00,\n",
              "         2.30673124e+00,  1.35977055e+00],\n",
              "       [-2.82198097e-01, -2.74963949e-01, -3.66741323e-01,\n",
              "        -5.57482249e-01, -3.96431950e-01],\n",
              "       [-7.00757611e-01, -6.65136258e-01, -7.24743997e-01,\n",
              "        -7.28408350e-01, -4.73730125e-01],\n",
              "       [-8.89109392e-01, -8.60222412e-01, -9.30595535e-01,\n",
              "        -7.41382259e-01, -7.77388635e-01],\n",
              "       [ 9.31624492e-01,  8.95552975e-01,  7.78867236e-01,\n",
              "         3.88034267e-01,  1.21756597e+00],\n",
              "       [-1.48555670e+00, -1.52351534e+00, -1.53920008e+00,\n",
              "        -1.55262911e+00, -1.77390347e+00],\n",
              "       [-1.90411621e+00, -1.89417903e+00, -1.95090316e+00,\n",
              "        -1.54768667e+00, -1.76524126e+00],\n",
              "       [-9.93749270e-01, -9.57765489e-01, -1.02009620e+00,\n",
              "        -8.35975098e-01, -6.14130078e-01],\n",
              "       [ 6.38632833e-01,  7.00466821e-01,  9.22068306e-01,\n",
              "         1.71249418e+00,  1.02904264e+00],\n",
              "       [-7.84469514e-01, -7.62679335e-01, -8.58995000e-01,\n",
              "        -8.68100967e-01, -9.44737679e-01],\n",
              "       [-1.56926860e+00, -1.62105841e+00, -1.62870075e+00,\n",
              "        -1.55427659e+00, -1.84392298e+00],\n",
              "       [-1.50648467e+00, -1.56253257e+00, -1.56605028e+00,\n",
              "        -1.52437025e+00, -1.83995280e+00],\n",
              "       [-7.42613562e-01, -7.62679335e-01, -7.51594198e-01,\n",
              "        -6.08622789e-01, -4.62180514e-01],\n",
              "       [ 2.93321234e-01,  3.10294513e-01,  3.04513692e-01,\n",
              "         4.27459391e-01,  1.33510731e+00],\n",
              "       [ 2.36519083e+00,  2.32943621e+00,  2.19297780e+00,\n",
              "         1.15163283e-02,  1.10002462e+00],\n",
              "       [-5.96117732e-01, -5.67593181e-01, -6.35243328e-01,\n",
              "        -6.32877363e-01, -4.91776391e-01],\n",
              "       [-2.82198097e-01, -2.74963949e-01, -2.32490320e-01,\n",
              "         5.06172348e-01, -1.19421760e-01],\n",
              "       [-5.96117732e-01, -5.67593181e-01, -6.35243328e-01,\n",
              "        -7.40421229e-01, -4.91776391e-01],\n",
              "       [-9.62357307e-01, -9.38256873e-01, -9.21645468e-01,\n",
              "        -8.18607907e-01, -9.14841031e-01],\n",
              "       [ 5.96776881e-01,  6.02923744e-01,  7.69917169e-01,\n",
              "         1.62865573e+00,  6.18309612e-01],\n",
              "       [ 2.93321234e-01,  2.81031590e-01,  5.01415163e-01,\n",
              "         1.22433655e+00,  3.71075762e-01],\n",
              "       [-3.10623891e-02, -3.11062569e-02, -1.51939718e-01,\n",
              "        -3.90972310e-01, -4.52719723e-03],\n",
              "       [-7.00757611e-01, -6.94399181e-01, -6.62093529e-01,\n",
              "         1.19014431e-01, -5.60713129e-01],\n",
              "       [ 1.13044026e+00,  1.09063913e+00,  9.66818640e-01,\n",
              "         5.17292841e-01,  9.98845217e-01],\n",
              "       [-4.81013866e-01, -5.18821642e-01, -5.00992325e-01,\n",
              "        -5.66520510e-01, -3.26352282e-01]])"
            ]
          },
          "metadata": {},
          "execution_count": 16
        }
      ]
    },
    {
      "cell_type": "markdown",
      "source": [
        "Build ANN"
      ],
      "metadata": {
        "id": "xt-IFJMrXIxr"
      }
    },
    {
      "cell_type": "code",
      "source": [
        "model = Sequential()\n",
        "model.add(Dense(X.shape[1], activation='relu', input_dim = X.shape[1]))\n",
        "model.add(Dense(128, activation='relu'))\n",
        "model.add(Dense(1, activation = 'relu'))"
      ],
      "metadata": {
        "id": "yf2MKYTiXKrc"
      },
      "execution_count": null,
      "outputs": []
    },
    {
      "cell_type": "code",
      "source": [
        "X.shape[1]"
      ],
      "metadata": {
        "colab": {
          "base_uri": "https://localhost:8080/"
        },
        "id": "vQF2LcVmXTTU",
        "outputId": "bfe92867-70ce-47ae-bd1c-734c824fce0c"
      },
      "execution_count": null,
      "outputs": [
        {
          "output_type": "execute_result",
          "data": {
            "text/plain": [
              "5"
            ]
          },
          "metadata": {},
          "execution_count": 18
        }
      ]
    },
    {
      "cell_type": "code",
      "source": [
        "model.compile(optimizer='adam', loss = 'binary_crossentropy', metrics=['accuracy'])"
      ],
      "metadata": {
        "id": "XZWPVn-hXVJr"
      },
      "execution_count": null,
      "outputs": []
    },
    {
      "cell_type": "code",
      "source": [
        "model.fit(X_train, y_train.to_numpy(), batch_size = 10, epochs = 10, verbose = 1)"
      ],
      "metadata": {
        "colab": {
          "base_uri": "https://localhost:8080/"
        },
        "id": "xyCB8mPLXXlb",
        "outputId": "ed638768-2486-40fc-fc67-e0a10cc816b0"
      },
      "execution_count": null,
      "outputs": [
        {
          "output_type": "stream",
          "name": "stdout",
          "text": [
            "Epoch 1/10\n",
            "13/13 [==============================] - 1s 3ms/step - loss: 167.1180 - accuracy: 0.0000e+00\n",
            "Epoch 2/10\n",
            "13/13 [==============================] - 0s 2ms/step - loss: -1298.4565 - accuracy: 0.0000e+00\n",
            "Epoch 3/10\n",
            "13/13 [==============================] - 0s 3ms/step - loss: -3522.7375 - accuracy: 0.0000e+00\n",
            "Epoch 4/10\n",
            "13/13 [==============================] - 0s 2ms/step - loss: -4497.7373 - accuracy: 0.0000e+00\n",
            "Epoch 5/10\n",
            "13/13 [==============================] - 0s 3ms/step - loss: -4842.8525 - accuracy: 0.0000e+00\n",
            "Epoch 6/10\n",
            "13/13 [==============================] - 0s 3ms/step - loss: -5168.7842 - accuracy: 0.0000e+00\n",
            "Epoch 7/10\n",
            "13/13 [==============================] - 0s 2ms/step - loss: -5340.5044 - accuracy: 0.0000e+00\n",
            "Epoch 8/10\n",
            "13/13 [==============================] - 0s 2ms/step - loss: -5415.1382 - accuracy: 0.0000e+00\n",
            "Epoch 9/10\n",
            "13/13 [==============================] - 0s 2ms/step - loss: -5559.1904 - accuracy: 0.0000e+00\n",
            "Epoch 10/10\n",
            "13/13 [==============================] - 0s 2ms/step - loss: -5596.2905 - accuracy: 0.0000e+00\n"
          ]
        },
        {
          "output_type": "execute_result",
          "data": {
            "text/plain": [
              "<keras.callbacks.History at 0x7f909a9dfca0>"
            ]
          },
          "metadata": {},
          "execution_count": 20
        }
      ]
    },
    {
      "cell_type": "code",
      "source": [
        "y_pred = (model.predict(X_test)>0.5).astype(\"int32\" ) "
      ],
      "metadata": {
        "colab": {
          "base_uri": "https://localhost:8080/"
        },
        "id": "C2oJBTIBXbrL",
        "outputId": "460249fd-100e-4a38-c72e-d78a7bc6ac10"
      },
      "execution_count": null,
      "outputs": [
        {
          "output_type": "stream",
          "name": "stdout",
          "text": [
            "1/1 [==============================] - 0s 98ms/step\n"
          ]
        }
      ]
    },
    {
      "cell_type": "code",
      "source": [
        "y_pred"
      ],
      "metadata": {
        "colab": {
          "base_uri": "https://localhost:8080/"
        },
        "id": "LuBeHC7NXeU6",
        "outputId": "b8ec5910-fb58-410e-c3b4-2a0719b58974"
      },
      "execution_count": null,
      "outputs": [
        {
          "output_type": "execute_result",
          "data": {
            "text/plain": [
              "array([[1],\n",
              "       [1],\n",
              "       [1],\n",
              "       [1],\n",
              "       [1],\n",
              "       [1],\n",
              "       [1],\n",
              "       [1],\n",
              "       [1],\n",
              "       [1],\n",
              "       [1],\n",
              "       [1],\n",
              "       [1],\n",
              "       [1],\n",
              "       [1],\n",
              "       [1],\n",
              "       [1],\n",
              "       [1],\n",
              "       [1],\n",
              "       [1],\n",
              "       [1],\n",
              "       [1],\n",
              "       [1],\n",
              "       [1],\n",
              "       [1],\n",
              "       [1],\n",
              "       [1],\n",
              "       [1],\n",
              "       [1],\n",
              "       [1],\n",
              "       [1],\n",
              "       [1]], dtype=int32)"
            ]
          },
          "metadata": {},
          "execution_count": 22
        }
      ]
    },
    {
      "cell_type": "code",
      "source": [
        "y_test"
      ],
      "metadata": {
        "colab": {
          "base_uri": "https://localhost:8080/"
        },
        "id": "icczDyAgXlOz",
        "outputId": "2d3a298a-11ed-47b8-dbfd-bfc57e61db6a"
      },
      "execution_count": null,
      "outputs": [
        {
          "output_type": "execute_result",
          "data": {
            "text/plain": [
              "7       390\n",
              "40        0\n",
              "95      170\n",
              "45      160\n",
              "110     556\n",
              "120     900\n",
              "59      800\n",
              "131     300\n",
              "33      975\n",
              "83      115\n",
              "128     200\n",
              "134     456\n",
              "60     1000\n",
              "126    1000\n",
              "62       60\n",
              "37       78\n",
              "44      145\n",
              "142    1600\n",
              "85      130\n",
              "26      720\n",
              "61       55\n",
              "54      390\n",
              "86      120\n",
              "144    1650\n",
              "63       90\n",
              "8       450\n",
              "24      700\n",
              "56      270\n",
              "119     850\n",
              "148       9\n",
              "19      650\n",
              "90      110\n",
              "Name: Weight, dtype: int32"
            ]
          },
          "metadata": {},
          "execution_count": 23
        }
      ]
    },
    {
      "cell_type": "code",
      "source": [
        "model.evaluate(X_test, y_test.to_numpy())"
      ],
      "metadata": {
        "colab": {
          "base_uri": "https://localhost:8080/"
        },
        "id": "0ex6y5t3Xm-c",
        "outputId": "0549da70-13c7-4d3f-ded1-305ffce9a238"
      },
      "execution_count": null,
      "outputs": [
        {
          "output_type": "stream",
          "name": "stdout",
          "text": [
            "1/1 [==============================] - 0s 206ms/step - loss: -7180.0088 - accuracy: 0.0000e+00\n"
          ]
        },
        {
          "output_type": "execute_result",
          "data": {
            "text/plain": [
              "[-7180.0087890625, 0.0]"
            ]
          },
          "metadata": {},
          "execution_count": 24
        }
      ]
    },
    {
      "cell_type": "code",
      "source": [
        "from sklearn.metrics import confusion_matrix, accuracy_score"
      ],
      "metadata": {
        "id": "5r3jK4QGXsb0"
      },
      "execution_count": null,
      "outputs": []
    },
    {
      "cell_type": "code",
      "source": [
        "confusion_matrix(y_test, y_pred)"
      ],
      "metadata": {
        "colab": {
          "base_uri": "https://localhost:8080/"
        },
        "id": "DRAPFWCSXtV0",
        "outputId": "969e07f9-68db-42f4-8a25-9e7c51dc47c2"
      },
      "execution_count": null,
      "outputs": [
        {
          "output_type": "execute_result",
          "data": {
            "text/plain": [
              "array([[0, 1, 0, 0, 0, 0, 0, 0, 0, 0, 0, 0, 0, 0, 0, 0, 0, 0, 0, 0, 0, 0,\n",
              "        0, 0, 0, 0, 0, 0, 0, 0, 0],\n",
              "       [0, 0, 0, 0, 0, 0, 0, 0, 0, 0, 0, 0, 0, 0, 0, 0, 0, 0, 0, 0, 0, 0,\n",
              "        0, 0, 0, 0, 0, 0, 0, 0, 0],\n",
              "       [0, 1, 0, 0, 0, 0, 0, 0, 0, 0, 0, 0, 0, 0, 0, 0, 0, 0, 0, 0, 0, 0,\n",
              "        0, 0, 0, 0, 0, 0, 0, 0, 0],\n",
              "       [0, 1, 0, 0, 0, 0, 0, 0, 0, 0, 0, 0, 0, 0, 0, 0, 0, 0, 0, 0, 0, 0,\n",
              "        0, 0, 0, 0, 0, 0, 0, 0, 0],\n",
              "       [0, 1, 0, 0, 0, 0, 0, 0, 0, 0, 0, 0, 0, 0, 0, 0, 0, 0, 0, 0, 0, 0,\n",
              "        0, 0, 0, 0, 0, 0, 0, 0, 0],\n",
              "       [0, 1, 0, 0, 0, 0, 0, 0, 0, 0, 0, 0, 0, 0, 0, 0, 0, 0, 0, 0, 0, 0,\n",
              "        0, 0, 0, 0, 0, 0, 0, 0, 0],\n",
              "       [0, 1, 0, 0, 0, 0, 0, 0, 0, 0, 0, 0, 0, 0, 0, 0, 0, 0, 0, 0, 0, 0,\n",
              "        0, 0, 0, 0, 0, 0, 0, 0, 0],\n",
              "       [0, 1, 0, 0, 0, 0, 0, 0, 0, 0, 0, 0, 0, 0, 0, 0, 0, 0, 0, 0, 0, 0,\n",
              "        0, 0, 0, 0, 0, 0, 0, 0, 0],\n",
              "       [0, 1, 0, 0, 0, 0, 0, 0, 0, 0, 0, 0, 0, 0, 0, 0, 0, 0, 0, 0, 0, 0,\n",
              "        0, 0, 0, 0, 0, 0, 0, 0, 0],\n",
              "       [0, 1, 0, 0, 0, 0, 0, 0, 0, 0, 0, 0, 0, 0, 0, 0, 0, 0, 0, 0, 0, 0,\n",
              "        0, 0, 0, 0, 0, 0, 0, 0, 0],\n",
              "       [0, 1, 0, 0, 0, 0, 0, 0, 0, 0, 0, 0, 0, 0, 0, 0, 0, 0, 0, 0, 0, 0,\n",
              "        0, 0, 0, 0, 0, 0, 0, 0, 0],\n",
              "       [0, 1, 0, 0, 0, 0, 0, 0, 0, 0, 0, 0, 0, 0, 0, 0, 0, 0, 0, 0, 0, 0,\n",
              "        0, 0, 0, 0, 0, 0, 0, 0, 0],\n",
              "       [0, 1, 0, 0, 0, 0, 0, 0, 0, 0, 0, 0, 0, 0, 0, 0, 0, 0, 0, 0, 0, 0,\n",
              "        0, 0, 0, 0, 0, 0, 0, 0, 0],\n",
              "       [0, 1, 0, 0, 0, 0, 0, 0, 0, 0, 0, 0, 0, 0, 0, 0, 0, 0, 0, 0, 0, 0,\n",
              "        0, 0, 0, 0, 0, 0, 0, 0, 0],\n",
              "       [0, 1, 0, 0, 0, 0, 0, 0, 0, 0, 0, 0, 0, 0, 0, 0, 0, 0, 0, 0, 0, 0,\n",
              "        0, 0, 0, 0, 0, 0, 0, 0, 0],\n",
              "       [0, 1, 0, 0, 0, 0, 0, 0, 0, 0, 0, 0, 0, 0, 0, 0, 0, 0, 0, 0, 0, 0,\n",
              "        0, 0, 0, 0, 0, 0, 0, 0, 0],\n",
              "       [0, 1, 0, 0, 0, 0, 0, 0, 0, 0, 0, 0, 0, 0, 0, 0, 0, 0, 0, 0, 0, 0,\n",
              "        0, 0, 0, 0, 0, 0, 0, 0, 0],\n",
              "       [0, 2, 0, 0, 0, 0, 0, 0, 0, 0, 0, 0, 0, 0, 0, 0, 0, 0, 0, 0, 0, 0,\n",
              "        0, 0, 0, 0, 0, 0, 0, 0, 0],\n",
              "       [0, 1, 0, 0, 0, 0, 0, 0, 0, 0, 0, 0, 0, 0, 0, 0, 0, 0, 0, 0, 0, 0,\n",
              "        0, 0, 0, 0, 0, 0, 0, 0, 0],\n",
              "       [0, 1, 0, 0, 0, 0, 0, 0, 0, 0, 0, 0, 0, 0, 0, 0, 0, 0, 0, 0, 0, 0,\n",
              "        0, 0, 0, 0, 0, 0, 0, 0, 0],\n",
              "       [0, 1, 0, 0, 0, 0, 0, 0, 0, 0, 0, 0, 0, 0, 0, 0, 0, 0, 0, 0, 0, 0,\n",
              "        0, 0, 0, 0, 0, 0, 0, 0, 0],\n",
              "       [0, 1, 0, 0, 0, 0, 0, 0, 0, 0, 0, 0, 0, 0, 0, 0, 0, 0, 0, 0, 0, 0,\n",
              "        0, 0, 0, 0, 0, 0, 0, 0, 0],\n",
              "       [0, 1, 0, 0, 0, 0, 0, 0, 0, 0, 0, 0, 0, 0, 0, 0, 0, 0, 0, 0, 0, 0,\n",
              "        0, 0, 0, 0, 0, 0, 0, 0, 0],\n",
              "       [0, 1, 0, 0, 0, 0, 0, 0, 0, 0, 0, 0, 0, 0, 0, 0, 0, 0, 0, 0, 0, 0,\n",
              "        0, 0, 0, 0, 0, 0, 0, 0, 0],\n",
              "       [0, 1, 0, 0, 0, 0, 0, 0, 0, 0, 0, 0, 0, 0, 0, 0, 0, 0, 0, 0, 0, 0,\n",
              "        0, 0, 0, 0, 0, 0, 0, 0, 0],\n",
              "       [0, 1, 0, 0, 0, 0, 0, 0, 0, 0, 0, 0, 0, 0, 0, 0, 0, 0, 0, 0, 0, 0,\n",
              "        0, 0, 0, 0, 0, 0, 0, 0, 0],\n",
              "       [0, 1, 0, 0, 0, 0, 0, 0, 0, 0, 0, 0, 0, 0, 0, 0, 0, 0, 0, 0, 0, 0,\n",
              "        0, 0, 0, 0, 0, 0, 0, 0, 0],\n",
              "       [0, 1, 0, 0, 0, 0, 0, 0, 0, 0, 0, 0, 0, 0, 0, 0, 0, 0, 0, 0, 0, 0,\n",
              "        0, 0, 0, 0, 0, 0, 0, 0, 0],\n",
              "       [0, 2, 0, 0, 0, 0, 0, 0, 0, 0, 0, 0, 0, 0, 0, 0, 0, 0, 0, 0, 0, 0,\n",
              "        0, 0, 0, 0, 0, 0, 0, 0, 0],\n",
              "       [0, 1, 0, 0, 0, 0, 0, 0, 0, 0, 0, 0, 0, 0, 0, 0, 0, 0, 0, 0, 0, 0,\n",
              "        0, 0, 0, 0, 0, 0, 0, 0, 0],\n",
              "       [0, 1, 0, 0, 0, 0, 0, 0, 0, 0, 0, 0, 0, 0, 0, 0, 0, 0, 0, 0, 0, 0,\n",
              "        0, 0, 0, 0, 0, 0, 0, 0, 0]])"
            ]
          },
          "metadata": {},
          "execution_count": 26
        }
      ]
    },
    {
      "cell_type": "code",
      "source": [
        "accuracy_score(y_test,y_pred)"
      ],
      "metadata": {
        "colab": {
          "base_uri": "https://localhost:8080/"
        },
        "id": "kuHTEVZHXzl-",
        "outputId": "074d4818-633f-45de-adf9-29c14688fa4d"
      },
      "execution_count": null,
      "outputs": [
        {
          "output_type": "execute_result",
          "data": {
            "text/plain": [
              "0.0"
            ]
          },
          "metadata": {},
          "execution_count": 27
        }
      ]
    },
    {
      "cell_type": "code",
      "source": [
        "from keras.utils.vis_utils import plot_model\n",
        "plot_model(model, to_file='model_plot.png', show_shapes=True, show_layer_names=True)\n"
      ],
      "metadata": {
        "colab": {
          "base_uri": "https://localhost:8080/",
          "height": 422
        },
        "id": "hvxmAPsQjkWy",
        "outputId": "899395d7-e7a5-468c-caf4-58eb9be60fa5"
      },
      "execution_count": null,
      "outputs": [
        {
          "output_type": "execute_result",
          "data": {
            "image/png": "[encoded data removed]",
            "text/plain": [
              "<IPython.core.display.Image object>"
            ]
          },
          "metadata": {},
          "execution_count": 28
        }
      ]
    },
    {
      "cell_type": "code",
      "source": [
        "pip install ann_visualizer"
      ],
      "metadata": {
        "id": "Yftru3PyqPLo"
      },
      "execution_count": null,
      "outputs": []
    },
    {
      "cell_type": "code",
      "source": [
        "from ann_visualizer.visualize import ann_viz;\n",
        "import graphviz\n",
        "\n",
        "ann_viz(model,view = True, title=\"Artificial Neuron\");"
      ],
      "metadata": {
        "id": "FiOzPvlsqW-9"
      },
      "execution_count": null,
      "outputs": []
    },
    {
      "cell_type": "code",
      "source": [
        "graph_file = graphviz.Source.from_file('network.gv')\n",
        "graph_file"
      ],
      "metadata": {
        "colab": {
          "base_uri": "https://localhost:8080/",
          "height": 1000
        },
        "id": "fy_lRa5JqZ81",
        "outputId": "08e15cba-11f9-4e57-8038-20183b59700e"
      },
      "execution_count": null,
      "outputs": [
        {
          "output_type": "execute_result",
          "data": {
            "image/svg+xml": "<?xml version=\"1.0\" encoding=\"UTF-8\" standalone=\"no\"?>\n<!DOCTYPE svg PUBLIC \"-//W3C//DTD SVG 1.1//EN\"\n \"http://www.w3.org/Graphics/SVG/1.1/DTD/svg11.dtd\">\n<!-- Generated by graphviz version 2.43.0 (0)\n -->\n<!-- Title: g Pages: 1 -->\n<svg width=\"1077pt\" height=\"734pt\"\n viewBox=\"0.00 0.00 1077.00 733.99\" xmlns=\"http://www.w3.org/2000/svg\" xmlns:xlink=\"http://www.w3.org/1999/xlink\">\n<g id=\"graph0\" class=\"graph\" transform=\"scale(1 1) rotate(0) translate(4 729.99)\">\n<title>g</title>\n<polygon fill=\"white\" stroke=\"transparent\" points=\"-4,4 -4,-729.99 1073,-729.99 1073,4 -4,4\"/>\n<g id=\"clust1\" class=\"cluster\">\n<title>cluster_input</title>\n<polygon fill=\"none\" stroke=\"white\" points=\"292,-579.99 292,-717.99 776,-717.99 776,-579.99 292,-579.99\"/>\n<text text-anchor=\"middle\" x=\"534\" y=\"-702.79\" font-family=\"Times,serif\" font-size=\"14.00\">Artificial Neuron</text>\n<text text-anchor=\"middle\" x=\"534\" y=\"-639.79\" font-family=\"Times,serif\" font-size=\"14.00\">Input Layer</text>\n</g>\n<g id=\"clust2\" class=\"cluster\">\n<title>cluster_1</title>\n<polygon fill=\"none\" stroke=\"white\" points=\"291,-396.99 291,-451.99 777,-451.99 777,-396.99 291,-396.99\"/>\n</g>\n<g id=\"clust3\" class=\"cluster\">\n<title>cluster_2</title>\n<polygon fill=\"none\" stroke=\"white\" points=\"8,-191 8,-268.99 1061,-268.99 1061,-191 8,-191\"/>\n<text text-anchor=\"middle\" x=\"1032\" y=\"-198.8\" font-family=\"Times,serif\" font-size=\"14.00\"> (+118)</text>\n</g>\n<g id=\"clust4\" class=\"cluster\">\n<title>cluster_output</title>\n<polygon fill=\"none\" stroke=\"white\" points=\"490,-8 490,-86 579,-86 579,-8 490,-8\"/>\n<text text-anchor=\"middle\" x=\"534.5\" y=\"-15.8\" font-family=\"Times,serif\" font-size=\"14.00\">Output Layer</text>\n</g>\n<!-- 1 -->\n<g id=\"node1\" class=\"node\">\n<title>1</title>\n<ellipse fill=\"#2ecc71\" stroke=\"#2ecc71\" cx=\"318\" cy=\"-605.99\" rx=\"18\" ry=\"18\"/>\n<text text-anchor=\"middle\" x=\"318\" y=\"-602.29\" font-family=\"Times,serif\" font-size=\"14.00\" fill=\"#2ecc71\">1</text>\n</g>\n<!-- 6 -->\n<g id=\"node6\" class=\"node\">\n<title>6</title>\n<ellipse fill=\"#3498db\" stroke=\"#3498db\" cx=\"425\" cy=\"-424.49\" rx=\"18\" ry=\"18\"/>\n<text text-anchor=\"middle\" x=\"425\" y=\"-420.79\" font-family=\"Times,serif\" font-size=\"14.00\" fill=\"#3498db\">6</text>\n</g>\n<!-- 1&#45;&gt;6 -->\n<g id=\"edge1\" class=\"edge\">\n<title>1&#45;&gt;6</title>\n<path fill=\"none\" stroke=\"#707070\" d=\"M326.94,-589.99C347.13,-556.12 396.07,-474.03 416.16,-440.32\"/>\n</g>\n<!-- 7 -->\n<g id=\"node7\" class=\"node\">\n<title>7</title>\n<ellipse fill=\"#3498db\" stroke=\"#3498db\" cx=\"317\" cy=\"-424.49\" rx=\"18\" ry=\"18\"/>\n<text text-anchor=\"middle\" x=\"317\" y=\"-420.79\" font-family=\"Times,serif\" font-size=\"14.00\" fill=\"#3498db\">7</text>\n</g>\n<!-- 1&#45;&gt;7 -->\n<g id=\"edge6\" class=\"edge\">\n<title>1&#45;&gt;7</title>\n<path fill=\"none\" stroke=\"#707070\" d=\"M317.9,-587.78C317.71,-553.47 317.29,-476.92 317.1,-442.65\"/>\n</g>\n<!-- 8 -->\n<g id=\"node8\" class=\"node\">\n<title>8</title>\n<ellipse fill=\"#3498db\" stroke=\"#3498db\" cx=\"751\" cy=\"-424.49\" rx=\"18\" ry=\"18\"/>\n<text text-anchor=\"middle\" x=\"751\" y=\"-420.79\" font-family=\"Times,serif\" font-size=\"14.00\" fill=\"#3498db\">8</text>\n</g>\n<!-- 1&#45;&gt;8 -->\n<g id=\"edge11\" class=\"edge\">\n<title>1&#45;&gt;8</title>\n<path fill=\"none\" stroke=\"#707070\" d=\"M334.45,-598.17C403.03,-569.74 665.92,-460.76 734.54,-432.32\"/>\n</g>\n<!-- 9 -->\n<g id=\"node9\" class=\"node\">\n<title>9</title>\n<ellipse fill=\"#3498db\" stroke=\"#3498db\" cx=\"643\" cy=\"-424.49\" rx=\"18\" ry=\"18\"/>\n<text text-anchor=\"middle\" x=\"643\" y=\"-420.79\" font-family=\"Times,serif\" font-size=\"14.00\" fill=\"#3498db\">9</text>\n</g>\n<!-- 1&#45;&gt;9 -->\n<g id=\"edge16\" class=\"edge\">\n<title>1&#45;&gt;9</title>\n<path fill=\"none\" stroke=\"#707070\" d=\"M333.68,-596.33C388.71,-565.94 572.7,-464.32 627.48,-434.06\"/>\n</g>\n<!-- 10 -->\n<g id=\"node10\" class=\"node\">\n<title>10</title>\n<ellipse fill=\"#3498db\" stroke=\"#3498db\" cx=\"534\" cy=\"-424.49\" rx=\"19.5\" ry=\"19.5\"/>\n<text text-anchor=\"middle\" x=\"534\" y=\"-420.79\" font-family=\"Times,serif\" font-size=\"14.00\" fill=\"#3498db\">10</text>\n</g>\n<!-- 1&#45;&gt;10 -->\n<g id=\"edge21\" class=\"edge\">\n<title>1&#45;&gt;10</title>\n<path fill=\"none\" stroke=\"#707070\" d=\"M331.51,-593.76C369.93,-561.83 479.59,-470.7 519.37,-437.65\"/>\n</g>\n<!-- 2 -->\n<g id=\"node2\" class=\"node\">\n<title>2</title>\n<ellipse fill=\"#2ecc71\" stroke=\"#2ecc71\" cx=\"750\" cy=\"-605.99\" rx=\"18\" ry=\"18\"/>\n<text text-anchor=\"middle\" x=\"750\" y=\"-602.29\" font-family=\"Times,serif\" font-size=\"14.00\" fill=\"#2ecc71\">2</text>\n</g>\n<!-- 2&#45;&gt;6 -->\n<g id=\"edge2\" class=\"edge\">\n<title>2&#45;&gt;6</title>\n<path fill=\"none\" stroke=\"#707070\" d=\"M734.32,-596.33C679.29,-565.94 495.3,-464.32 440.52,-434.06\"/>\n</g>\n<!-- 2&#45;&gt;7 -->\n<g id=\"edge7\" class=\"edge\">\n<title>2&#45;&gt;7</title>\n<path fill=\"none\" stroke=\"#707070\" d=\"M733.55,-598.17C664.97,-569.74 402.08,-460.76 333.46,-432.32\"/>\n</g>\n<!-- 2&#45;&gt;8 -->\n<g id=\"edge12\" class=\"edge\">\n<title>2&#45;&gt;8</title>\n<path fill=\"none\" stroke=\"#707070\" d=\"M750.1,-587.78C750.29,-553.47 750.71,-476.92 750.9,-442.65\"/>\n</g>\n<!-- 2&#45;&gt;9 -->\n<g id=\"edge17\" class=\"edge\">\n<title>2&#45;&gt;9</title>\n<path fill=\"none\" stroke=\"#707070\" d=\"M741.06,-589.99C720.87,-556.12 671.93,-474.03 651.84,-440.32\"/>\n</g>\n<!-- 2&#45;&gt;10 -->\n<g id=\"edge22\" class=\"edge\">\n<title>2&#45;&gt;10</title>\n<path fill=\"none\" stroke=\"#707070\" d=\"M736.49,-593.76C698.07,-561.83 588.41,-470.7 548.63,-437.65\"/>\n</g>\n<!-- 3 -->\n<g id=\"node3\" class=\"node\">\n<title>3</title>\n<ellipse fill=\"#2ecc71\" stroke=\"#2ecc71\" cx=\"642\" cy=\"-605.99\" rx=\"18\" ry=\"18\"/>\n<text text-anchor=\"middle\" x=\"642\" y=\"-602.29\" font-family=\"Times,serif\" font-size=\"14.00\" fill=\"#2ecc71\">3</text>\n</g>\n<!-- 3&#45;&gt;6 -->\n<g id=\"edge3\" class=\"edge\">\n<title>3&#45;&gt;6</title>\n<path fill=\"none\" stroke=\"#707070\" d=\"M628.43,-593.76C589.46,-561.53 477.53,-468.95 438.57,-436.72\"/>\n</g>\n<!-- 3&#45;&gt;7 -->\n<g id=\"edge8\" class=\"edge\">\n<title>3&#45;&gt;7</title>\n<path fill=\"none\" stroke=\"#707070\" d=\"M626.32,-596.33C571.29,-565.94 387.3,-464.32 332.52,-434.06\"/>\n</g>\n<!-- 3&#45;&gt;8 -->\n<g id=\"edge13\" class=\"edge\">\n<title>3&#45;&gt;8</title>\n<path fill=\"none\" stroke=\"#707070\" d=\"M650.92,-590.3C671.36,-556.64 721.4,-474.24 741.96,-440.38\"/>\n</g>\n<!-- 3&#45;&gt;9 -->\n<g id=\"edge18\" class=\"edge\">\n<title>3&#45;&gt;9</title>\n<path fill=\"none\" stroke=\"#707070\" d=\"M642.1,-587.78C642.29,-553.47 642.71,-476.92 642.9,-442.65\"/>\n</g>\n<!-- 3&#45;&gt;10 -->\n<g id=\"edge23\" class=\"edge\">\n<title>3&#45;&gt;10</title>\n<path fill=\"none\" stroke=\"#707070\" d=\"M633.16,-590.3C613.16,-557.06 564.56,-476.28 543.73,-441.67\"/>\n</g>\n<!-- 4 -->\n<g id=\"node4\" class=\"node\">\n<title>4</title>\n<ellipse fill=\"#2ecc71\" stroke=\"#2ecc71\" cx=\"534\" cy=\"-605.99\" rx=\"18\" ry=\"18\"/>\n<text text-anchor=\"middle\" x=\"534\" y=\"-602.29\" font-family=\"Times,serif\" font-size=\"14.00\" fill=\"#2ecc71\">4</text>\n</g>\n<!-- 4&#45;&gt;6 -->\n<g id=\"edge4\" class=\"edge\">\n<title>4&#45;&gt;6</title>\n<path fill=\"none\" stroke=\"#707070\" d=\"M525.08,-590.3C504.64,-556.64 454.6,-474.24 434.04,-440.38\"/>\n</g>\n<!-- 4&#45;&gt;7 -->\n<g id=\"edge9\" class=\"edge\">\n<title>4&#45;&gt;7</title>\n<path fill=\"none\" stroke=\"#707070\" d=\"M520.43,-593.76C481.46,-561.53 369.53,-468.95 330.57,-436.72\"/>\n</g>\n<!-- 4&#45;&gt;8 -->\n<g id=\"edge14\" class=\"edge\">\n<title>4&#45;&gt;8</title>\n<path fill=\"none\" stroke=\"#707070\" d=\"M547.57,-593.76C586.54,-561.53 698.47,-468.95 737.43,-436.72\"/>\n</g>\n<!-- 4&#45;&gt;9 -->\n<g id=\"edge19\" class=\"edge\">\n<title>4&#45;&gt;9</title>\n<path fill=\"none\" stroke=\"#707070\" d=\"M542.92,-590.3C563.36,-556.64 613.4,-474.24 633.96,-440.38\"/>\n</g>\n<!-- 4&#45;&gt;10 -->\n<g id=\"edge24\" class=\"edge\">\n<title>4&#45;&gt;10</title>\n<path fill=\"none\" stroke=\"#707070\" d=\"M534,-587.78C534,-554 534,-479.26 534,-444.26\"/>\n</g>\n<!-- 5 -->\n<g id=\"node5\" class=\"node\">\n<title>5</title>\n<ellipse fill=\"#2ecc71\" stroke=\"#2ecc71\" cx=\"426\" cy=\"-605.99\" rx=\"18\" ry=\"18\"/>\n<text text-anchor=\"middle\" x=\"426\" y=\"-602.29\" font-family=\"Times,serif\" font-size=\"14.00\" fill=\"#2ecc71\">5</text>\n</g>\n<!-- 5&#45;&gt;6 -->\n<g id=\"edge5\" class=\"edge\">\n<title>5&#45;&gt;6</title>\n<path fill=\"none\" stroke=\"#707070\" d=\"M425.9,-587.78C425.71,-553.47 425.29,-476.92 425.1,-442.65\"/>\n</g>\n<!-- 5&#45;&gt;7 -->\n<g id=\"edge10\" class=\"edge\">\n<title>5&#45;&gt;7</title>\n<path fill=\"none\" stroke=\"#707070\" d=\"M417.08,-590.3C396.64,-556.64 346.6,-474.24 326.04,-440.38\"/>\n</g>\n<!-- 5&#45;&gt;8 -->\n<g id=\"edge15\" class=\"edge\">\n<title>5&#45;&gt;8</title>\n<path fill=\"none\" stroke=\"#707070\" d=\"M441.68,-596.33C496.71,-565.94 680.7,-464.32 735.48,-434.06\"/>\n</g>\n<!-- 5&#45;&gt;9 -->\n<g id=\"edge20\" class=\"edge\">\n<title>5&#45;&gt;9</title>\n<path fill=\"none\" stroke=\"#707070\" d=\"M439.57,-593.76C478.54,-561.53 590.47,-468.95 629.43,-436.72\"/>\n</g>\n<!-- 5&#45;&gt;10 -->\n<g id=\"edge25\" class=\"edge\">\n<title>5&#45;&gt;10</title>\n<path fill=\"none\" stroke=\"#707070\" d=\"M434.84,-590.3C454.84,-557.06 503.44,-476.28 524.27,-441.67\"/>\n</g>\n<!-- 11 -->\n<g id=\"node11\" class=\"node\">\n<title>11</title>\n<ellipse fill=\"#3498db\" stroke=\"#3498db\" cx=\"146\" cy=\"-241.49\" rx=\"19.5\" ry=\"19.5\"/>\n<text text-anchor=\"middle\" x=\"146\" y=\"-237.79\" font-family=\"Times,serif\" font-size=\"14.00\" fill=\"#3498db\">11</text>\n</g>\n<!-- 6&#45;&gt;11 -->\n<g id=\"edge26\" class=\"edge\">\n<title>6&#45;&gt;11</title>\n<path fill=\"none\" stroke=\"#707070\" d=\"M410,-413.76C361.9,-382.55 211.75,-285.15 162.11,-252.95\"/>\n</g>\n<!-- 12 -->\n<g id=\"node12\" class=\"node\">\n<title>12</title>\n<ellipse fill=\"#3498db\" stroke=\"#3498db\" cx=\"35\" cy=\"-241.49\" rx=\"19.5\" ry=\"19.5\"/>\n<text text-anchor=\"middle\" x=\"35\" y=\"-237.79\" font-family=\"Times,serif\" font-size=\"14.00\" fill=\"#3498db\">12</text>\n</g>\n<!-- 6&#45;&gt;12 -->\n<g id=\"edge31\" class=\"edge\">\n<title>6&#45;&gt;12</title>\n<path fill=\"none\" stroke=\"#707070\" d=\"M408.74,-415.94C345.74,-386.71 118.02,-281.02 52.65,-250.69\"/>\n</g>\n<!-- 13 -->\n<g id=\"node13\" class=\"node\">\n<title>13</title>\n<ellipse fill=\"#3498db\" stroke=\"#3498db\" cx=\"1034\" cy=\"-241.49\" rx=\"19.5\" ry=\"19.5\"/>\n<text text-anchor=\"middle\" x=\"1034\" y=\"-237.79\" font-family=\"Times,serif\" font-size=\"14.00\" fill=\"#3498db\">13</text>\n</g>\n<!-- 6&#45;&gt;13 -->\n<g id=\"edge36\" class=\"edge\">\n<title>6&#45;&gt;13</title>\n<path fill=\"none\" stroke=\"#707070\" d=\"M442.25,-418.37C529.83,-392.33 924.81,-274.95 1015.43,-248.01\"/>\n</g>\n<!-- 14 -->\n<g id=\"node14\" class=\"node\">\n<title>14</title>\n<ellipse fill=\"#3498db\" stroke=\"#3498db\" cx=\"923\" cy=\"-241.49\" rx=\"19.5\" ry=\"19.5\"/>\n<text text-anchor=\"middle\" x=\"923\" y=\"-237.79\" font-family=\"Times,serif\" font-size=\"14.00\" fill=\"#3498db\">14</text>\n</g>\n<!-- 6&#45;&gt;14 -->\n<g id=\"edge41\" class=\"edge\">\n<title>6&#45;&gt;14</title>\n<path fill=\"none\" stroke=\"#707070\" d=\"M441.85,-417.37C517.63,-389.82 826.49,-277.57 904.85,-249.09\"/>\n</g>\n<!-- 15 -->\n<g id=\"node15\" class=\"node\">\n<title>15</title>\n<ellipse fill=\"#3498db\" stroke=\"#3498db\" cx=\"812\" cy=\"-241.49\" rx=\"19.5\" ry=\"19.5\"/>\n<text text-anchor=\"middle\" x=\"812\" y=\"-237.79\" font-family=\"Times,serif\" font-size=\"14.00\" fill=\"#3498db\">15</text>\n</g>\n<!-- 6&#45;&gt;15 -->\n<g id=\"edge46\" class=\"edge\">\n<title>6&#45;&gt;15</title>\n<path fill=\"none\" stroke=\"#707070\" d=\"M441.14,-415.94C503.65,-386.71 729.62,-281.02 794.48,-250.69\"/>\n</g>\n<!-- 16 -->\n<g id=\"node16\" class=\"node\">\n<title>16</title>\n<ellipse fill=\"#3498db\" stroke=\"#3498db\" cx=\"701\" cy=\"-241.49\" rx=\"19.5\" ry=\"19.5\"/>\n<text text-anchor=\"middle\" x=\"701\" y=\"-237.79\" font-family=\"Times,serif\" font-size=\"14.00\" fill=\"#3498db\">16</text>\n</g>\n<!-- 6&#45;&gt;16 -->\n<g id=\"edge51\" class=\"edge\">\n<title>6&#45;&gt;16</title>\n<path fill=\"none\" stroke=\"#707070\" d=\"M439.84,-413.76C487.43,-382.55 635.96,-285.15 685.06,-252.95\"/>\n</g>\n<!-- 17 -->\n<g id=\"node17\" class=\"node\">\n<title>17</title>\n<ellipse fill=\"#3498db\" stroke=\"#3498db\" cx=\"590\" cy=\"-241.49\" rx=\"19.5\" ry=\"19.5\"/>\n<text text-anchor=\"middle\" x=\"590\" y=\"-237.79\" font-family=\"Times,serif\" font-size=\"14.00\" fill=\"#3498db\">17</text>\n</g>\n<!-- 6&#45;&gt;17 -->\n<g id=\"edge56\" class=\"edge\">\n<title>6&#45;&gt;17</title>\n<path fill=\"none\" stroke=\"#707070\" d=\"M436.87,-410.47C467.01,-377.4 546.36,-290.37 577.34,-256.38\"/>\n</g>\n<!-- 18 -->\n<g id=\"node18\" class=\"node\">\n<title>18</title>\n<ellipse fill=\"#3498db\" stroke=\"#3498db\" cx=\"479\" cy=\"-241.49\" rx=\"19.5\" ry=\"19.5\"/>\n<text text-anchor=\"middle\" x=\"479\" y=\"-237.79\" font-family=\"Times,serif\" font-size=\"14.00\" fill=\"#3498db\">18</text>\n</g>\n<!-- 6&#45;&gt;18 -->\n<g id=\"edge61\" class=\"edge\">\n<title>6&#45;&gt;18</title>\n<path fill=\"none\" stroke=\"#707070\" d=\"M429.89,-407.11C440.01,-373.17 463.21,-295.42 473.69,-260.3\"/>\n</g>\n<!-- 19 -->\n<g id=\"node19\" class=\"node\">\n<title>19</title>\n<ellipse fill=\"#3498db\" stroke=\"#3498db\" cx=\"368\" cy=\"-241.49\" rx=\"19.5\" ry=\"19.5\"/>\n<text text-anchor=\"middle\" x=\"368\" y=\"-237.79\" font-family=\"Times,serif\" font-size=\"14.00\" fill=\"#3498db\">19</text>\n</g>\n<!-- 6&#45;&gt;19 -->\n<g id=\"edge66\" class=\"edge\">\n<title>6&#45;&gt;19</title>\n<path fill=\"none\" stroke=\"#707070\" d=\"M419.84,-407.11C409.15,-373.17 384.67,-295.42 373.61,-260.3\"/>\n</g>\n<!-- 20 -->\n<g id=\"node20\" class=\"node\">\n<title>20</title>\n<ellipse fill=\"#3498db\" stroke=\"#3498db\" cx=\"257\" cy=\"-241.49\" rx=\"19.5\" ry=\"19.5\"/>\n<text text-anchor=\"middle\" x=\"257\" y=\"-237.79\" font-family=\"Times,serif\" font-size=\"14.00\" fill=\"#3498db\">20</text>\n</g>\n<!-- 6&#45;&gt;20 -->\n<g id=\"edge71\" class=\"edge\">\n<title>6&#45;&gt;20</title>\n<path fill=\"none\" stroke=\"#707070\" d=\"M413.19,-410.76C382.71,-377.93 301.63,-290.57 269.94,-256.44\"/>\n</g>\n<!-- 7&#45;&gt;11 -->\n<g id=\"edge27\" class=\"edge\">\n<title>7&#45;&gt;11</title>\n<path fill=\"none\" stroke=\"#707070\" d=\"M304.98,-410.76C273.96,-377.93 191.42,-290.57 159.17,-256.44\"/>\n</g>\n<!-- 7&#45;&gt;12 -->\n<g id=\"edge32\" class=\"edge\">\n<title>7&#45;&gt;12</title>\n<path fill=\"none\" stroke=\"#707070\" d=\"M302.24,-414.02C253.96,-383.03 101.02,-284.87 51,-252.76\"/>\n</g>\n<!-- 7&#45;&gt;13 -->\n<g id=\"edge37\" class=\"edge\">\n<title>7&#45;&gt;13</title>\n<path fill=\"none\" stroke=\"#707070\" d=\"M334.37,-419.11C432.21,-394.41 913.81,-272.83 1015.23,-247.23\"/>\n</g>\n<!-- 7&#45;&gt;14 -->\n<g id=\"edge42\" class=\"edge\">\n<title>7&#45;&gt;14</title>\n<path fill=\"none\" stroke=\"#707070\" d=\"M334.16,-418.37C421.32,-392.33 814.35,-274.95 904.52,-248.01\"/>\n</g>\n<!-- 7&#45;&gt;15 -->\n<g id=\"edge47\" class=\"edge\">\n<title>7&#45;&gt;15</title>\n<path fill=\"none\" stroke=\"#707070\" d=\"M333.75,-417.37C409.07,-389.82 716.07,-277.57 793.96,-249.09\"/>\n</g>\n<!-- 7&#45;&gt;16 -->\n<g id=\"edge52\" class=\"edge\">\n<title>7&#45;&gt;16</title>\n<path fill=\"none\" stroke=\"#707070\" d=\"M333.01,-415.94C395.04,-386.71 619.26,-281.02 683.62,-250.69\"/>\n</g>\n<!-- 7&#45;&gt;17 -->\n<g id=\"edge57\" class=\"edge\">\n<title>7&#45;&gt;17</title>\n<path fill=\"none\" stroke=\"#707070\" d=\"M331.68,-413.76C378.64,-382.63 524.97,-285.61 573.89,-253.17\"/>\n</g>\n<!-- 7&#45;&gt;18 -->\n<g id=\"edge62\" class=\"edge\">\n<title>7&#45;&gt;18</title>\n<path fill=\"none\" stroke=\"#707070\" d=\"M328.65,-410.47C358.18,-377.48 435.77,-290.8 466.35,-256.63\"/>\n</g>\n<!-- 7&#45;&gt;19 -->\n<g id=\"edge67\" class=\"edge\">\n<title>7&#45;&gt;19</title>\n<path fill=\"none\" stroke=\"#707070\" d=\"M321.71,-406.79C331.3,-372.75 353.04,-295.59 362.93,-260.49\"/>\n</g>\n<!-- 7&#45;&gt;20 -->\n<g id=\"edge72\" class=\"edge\">\n<title>7&#45;&gt;20</title>\n<path fill=\"none\" stroke=\"#707070\" d=\"M311.57,-407.11C300.32,-373.17 274.55,-295.42 262.9,-260.3\"/>\n</g>\n<!-- 8&#45;&gt;11 -->\n<g id=\"edge28\" class=\"edge\">\n<title>8&#45;&gt;11</title>\n<path fill=\"none\" stroke=\"#707070\" d=\"M733.87,-418.37C646.85,-392.33 254.47,-274.95 164.45,-248.01\"/>\n</g>\n<!-- 8&#45;&gt;12 -->\n<g id=\"edge33\" class=\"edge\">\n<title>8&#45;&gt;12</title>\n<path fill=\"none\" stroke=\"#707070\" d=\"M733.66,-419.11C635.95,-394.41 155.02,-272.83 53.74,-247.23\"/>\n</g>\n<!-- 8&#45;&gt;13 -->\n<g id=\"edge38\" class=\"edge\">\n<title>8&#45;&gt;13</title>\n<path fill=\"none\" stroke=\"#707070\" d=\"M765.82,-414.02C814.27,-383.03 967.75,-284.87 1017.94,-252.76\"/>\n</g>\n<!-- 8&#45;&gt;14 -->\n<g id=\"edge43\" class=\"edge\">\n<title>8&#45;&gt;14</title>\n<path fill=\"none\" stroke=\"#707070\" d=\"M763.09,-410.76C794.29,-377.93 877.31,-290.57 909.75,-256.44\"/>\n</g>\n<!-- 8&#45;&gt;15 -->\n<g id=\"edge48\" class=\"edge\">\n<title>8&#45;&gt;15</title>\n<path fill=\"none\" stroke=\"#707070\" d=\"M756.52,-407.11C767.96,-373.17 794.16,-295.42 806,-260.3\"/>\n</g>\n<!-- 8&#45;&gt;16 -->\n<g id=\"edge53\" class=\"edge\">\n<title>8&#45;&gt;16</title>\n<path fill=\"none\" stroke=\"#707070\" d=\"M746.39,-406.79C736.98,-372.75 715.67,-295.59 705.97,-260.49\"/>\n</g>\n<!-- 8&#45;&gt;17 -->\n<g id=\"edge58\" class=\"edge\">\n<title>8&#45;&gt;17</title>\n<path fill=\"none\" stroke=\"#707070\" d=\"M739.42,-410.47C710.08,-377.48 632.97,-290.8 602.57,-256.63\"/>\n</g>\n<!-- 8&#45;&gt;18 -->\n<g id=\"edge63\" class=\"edge\">\n<title>8&#45;&gt;18</title>\n<path fill=\"none\" stroke=\"#707070\" d=\"M736.38,-413.76C689.59,-382.63 543.79,-285.61 495.05,-253.17\"/>\n</g>\n<!-- 8&#45;&gt;19 -->\n<g id=\"edge68\" class=\"edge\">\n<title>8&#45;&gt;19</title>\n<path fill=\"none\" stroke=\"#707070\" d=\"M735.03,-415.94C673.16,-386.71 449.53,-281.02 385.34,-250.69\"/>\n</g>\n<!-- 8&#45;&gt;20 -->\n<g id=\"edge73\" class=\"edge\">\n<title>8&#45;&gt;20</title>\n<path fill=\"none\" stroke=\"#707070\" d=\"M734.28,-417.37C659.11,-389.82 352.74,-277.57 275,-249.09\"/>\n</g>\n<!-- 9&#45;&gt;11 -->\n<g id=\"edge29\" class=\"edge\">\n<title>9&#45;&gt;11</title>\n<path fill=\"none\" stroke=\"#707070\" d=\"M626.18,-417.37C550.55,-389.82 242.32,-277.57 164.11,-249.09\"/>\n</g>\n<!-- 9&#45;&gt;12 -->\n<g id=\"edge34\" class=\"edge\">\n<title>9&#45;&gt;12</title>\n<path fill=\"none\" stroke=\"#707070\" d=\"M625.78,-418.37C538.34,-392.33 144.01,-274.95 53.54,-248.01\"/>\n</g>\n<!-- 9&#45;&gt;13 -->\n<g id=\"edge39\" class=\"edge\">\n<title>9&#45;&gt;13</title>\n<path fill=\"none\" stroke=\"#707070\" d=\"M659.3,-415.94C722.46,-386.71 950.77,-281.02 1016.3,-250.69\"/>\n</g>\n<!-- 9&#45;&gt;14 -->\n<g id=\"edge44\" class=\"edge\">\n<title>9&#45;&gt;14</title>\n<path fill=\"none\" stroke=\"#707070\" d=\"M657.66,-414.02C705.48,-383.1 856.74,-285.33 906.76,-252.99\"/>\n</g>\n<!-- 9&#45;&gt;15 -->\n<g id=\"edge49\" class=\"edge\">\n<title>9&#45;&gt;15</title>\n<path fill=\"none\" stroke=\"#707070\" d=\"M654.88,-410.76C685.54,-377.93 767.11,-290.57 798.98,-256.44\"/>\n</g>\n<!-- 9&#45;&gt;16 -->\n<g id=\"edge54\" class=\"edge\">\n<title>9&#45;&gt;16</title>\n<path fill=\"none\" stroke=\"#707070\" d=\"M648.25,-407.11C659.12,-373.17 684.04,-295.42 695.29,-260.3\"/>\n</g>\n<!-- 9&#45;&gt;17 -->\n<g id=\"edge59\" class=\"edge\">\n<title>9&#45;&gt;17</title>\n<path fill=\"none\" stroke=\"#707070\" d=\"M638.2,-407.11C628.27,-373.17 605.5,-295.42 595.21,-260.3\"/>\n</g>\n<!-- 9&#45;&gt;18 -->\n<g id=\"edge64\" class=\"edge\">\n<title>9&#45;&gt;18</title>\n<path fill=\"none\" stroke=\"#707070\" d=\"M631.21,-410.47C601.31,-377.48 522.77,-290.8 491.81,-256.63\"/>\n</g>\n<!-- 9&#45;&gt;19 -->\n<g id=\"edge69\" class=\"edge\">\n<title>9&#45;&gt;19</title>\n<path fill=\"none\" stroke=\"#707070\" d=\"M628.21,-413.76C580.8,-382.55 432.81,-285.15 383.88,-252.95\"/>\n</g>\n<!-- 9&#45;&gt;20 -->\n<g id=\"edge74\" class=\"edge\">\n<title>9&#45;&gt;20</title>\n<path fill=\"none\" stroke=\"#707070\" d=\"M626.91,-415.94C564.55,-386.71 339.17,-281.02 274.47,-250.69\"/>\n</g>\n<!-- 10&#45;&gt;11 -->\n<g id=\"edge30\" class=\"edge\">\n<title>10&#45;&gt;11</title>\n<path fill=\"none\" stroke=\"#707070\" d=\"M516.57,-415.36C452.14,-385.3 227.74,-280.62 163.38,-250.6\"/>\n</g>\n<!-- 10&#45;&gt;12 -->\n<g id=\"edge35\" class=\"edge\">\n<title>10&#45;&gt;12</title>\n<path fill=\"none\" stroke=\"#707070\" d=\"M515.95,-416.94C438.02,-388.68 130.91,-277.28 53.03,-249.03\"/>\n</g>\n<!-- 10&#45;&gt;13 -->\n<g id=\"edge40\" class=\"edge\">\n<title>10&#45;&gt;13</title>\n<path fill=\"none\" stroke=\"#707070\" d=\"M552.09,-416.94C630.18,-388.68 937.9,-277.28 1015.93,-249.03\"/>\n</g>\n<!-- 10&#45;&gt;14 -->\n<g id=\"edge45\" class=\"edge\">\n<title>10&#45;&gt;14</title>\n<path fill=\"none\" stroke=\"#707070\" d=\"M551.47,-415.36C616.08,-385.3 841.05,-280.62 905.58,-250.6\"/>\n</g>\n<!-- 10&#45;&gt;15 -->\n<g id=\"edge50\" class=\"edge\">\n<title>10&#45;&gt;15</title>\n<path fill=\"none\" stroke=\"#707070\" d=\"M550.15,-412.98C599.28,-380.99 746.61,-285.07 795.81,-253.04\"/>\n</g>\n<!-- 10&#45;&gt;16 -->\n<g id=\"edge55\" class=\"edge\">\n<title>10&#45;&gt;16</title>\n<path fill=\"none\" stroke=\"#707070\" d=\"M546.83,-409.59C577.91,-375.9 657,-290.18 688.13,-256.44\"/>\n</g>\n<!-- 10&#45;&gt;17 -->\n<g id=\"edge60\" class=\"edge\">\n<title>10&#45;&gt;17</title>\n<path fill=\"none\" stroke=\"#707070\" d=\"M539.57,-405.47C550.31,-370.78 573.73,-295.07 584.45,-260.44\"/>\n</g>\n<!-- 10&#45;&gt;18 -->\n<g id=\"edge65\" class=\"edge\">\n<title>10&#45;&gt;18</title>\n<path fill=\"none\" stroke=\"#707070\" d=\"M528.53,-405.47C517.98,-370.78 494.98,-295.07 484.45,-260.44\"/>\n</g>\n<!-- 10&#45;&gt;19 -->\n<g id=\"edge70\" class=\"edge\">\n<title>10&#45;&gt;19</title>\n<path fill=\"none\" stroke=\"#707070\" d=\"M521.25,-409.59C490.35,-375.9 411.74,-290.18 380.79,-256.44\"/>\n</g>\n<!-- 10&#45;&gt;20 -->\n<g id=\"edge75\" class=\"edge\">\n<title>10&#45;&gt;20</title>\n<path fill=\"none\" stroke=\"#707070\" d=\"M517.91,-412.98C468.95,-380.99 322.15,-285.07 273.13,-253.04\"/>\n</g>\n<!-- 21 -->\n<g id=\"node21\" class=\"node\">\n<title>21</title>\n<ellipse fill=\"#e74c3c\" stroke=\"#e74c3c\" cx=\"534\" cy=\"-58.5\" rx=\"19.5\" ry=\"19.5\"/>\n<text text-anchor=\"middle\" x=\"534\" y=\"-54.8\" font-family=\"Times,serif\" font-size=\"14.00\" fill=\"#e74c3c\">21</text>\n</g>\n<!-- 11&#45;&gt;21 -->\n<g id=\"edge76\" class=\"edge\">\n<title>11&#45;&gt;21</title>\n<path fill=\"none\" stroke=\"#707070\" d=\"M163.43,-232.37C227.86,-202.31 452.26,-97.63 516.62,-67.6\"/>\n</g>\n<!-- 12&#45;&gt;21 -->\n<g id=\"edge77\" class=\"edge\">\n<title>12&#45;&gt;21</title>\n<path fill=\"none\" stroke=\"#707070\" d=\"M53.05,-233.95C130.98,-205.68 438.09,-94.29 515.97,-66.04\"/>\n</g>\n<!-- 13&#45;&gt;21 -->\n<g id=\"edge78\" class=\"edge\">\n<title>13&#45;&gt;21</title>\n<path fill=\"none\" stroke=\"#707070\" d=\"M1015.91,-233.95C937.82,-205.68 630.1,-94.29 552.07,-66.04\"/>\n</g>\n<!-- 14&#45;&gt;21 -->\n<g id=\"edge79\" class=\"edge\">\n<title>14&#45;&gt;21</title>\n<path fill=\"none\" stroke=\"#707070\" d=\"M905.53,-232.37C840.92,-202.31 615.95,-97.63 551.42,-67.6\"/>\n</g>\n<!-- 15&#45;&gt;21 -->\n<g id=\"edge80\" class=\"edge\">\n<title>15&#45;&gt;21</title>\n<path fill=\"none\" stroke=\"#707070\" d=\"M795.85,-229.98C746.72,-197.99 599.39,-102.07 550.19,-70.04\"/>\n</g>\n<!-- 16&#45;&gt;21 -->\n<g id=\"edge81\" class=\"edge\">\n<title>16&#45;&gt;21</title>\n<path fill=\"none\" stroke=\"#707070\" d=\"M688.17,-226.59C657.09,-192.9 578,-107.19 546.87,-73.45\"/>\n</g>\n<!-- 17&#45;&gt;21 -->\n<g id=\"edge82\" class=\"edge\">\n<title>17&#45;&gt;21</title>\n<path fill=\"none\" stroke=\"#707070\" d=\"M584.43,-222.48C573.69,-187.79 550.27,-112.08 539.55,-77.44\"/>\n</g>\n<!-- 18&#45;&gt;21 -->\n<g id=\"edge83\" class=\"edge\">\n<title>18&#45;&gt;21</title>\n<path fill=\"none\" stroke=\"#707070\" d=\"M484.47,-222.48C495.02,-187.79 518.02,-112.08 528.55,-77.44\"/>\n</g>\n<!-- 19&#45;&gt;21 -->\n<g id=\"edge84\" class=\"edge\">\n<title>19&#45;&gt;21</title>\n<path fill=\"none\" stroke=\"#707070\" d=\"M380.75,-226.59C411.65,-192.9 490.26,-107.19 521.21,-73.45\"/>\n</g>\n<!-- 20&#45;&gt;21 -->\n<g id=\"edge85\" class=\"edge\">\n<title>20&#45;&gt;21</title>\n<path fill=\"none\" stroke=\"#707070\" d=\"M273.09,-229.98C322.05,-197.99 468.85,-102.07 517.87,-70.04\"/>\n</g>\n</g>\n</svg>\n",
            "text/plain": [
              "<graphviz.sources.Source at 0x7f90865bd240>"
            ]
          },
          "metadata": {},
          "execution_count": 33
        }
      ]
    }
  ]
}