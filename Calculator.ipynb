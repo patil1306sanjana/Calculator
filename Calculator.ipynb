{
  "nbformat": 4,
  "nbformat_minor": 0,
  "metadata": {
    "colab": {
      "provenance": [],
      "authorship_tag": "ABX9TyP+rrmYIJUGsi5Z3YzIBLHv",
      "include_colab_link": true
    },
    "kernelspec": {
      "name": "python3",
      "display_name": "Python 3"
    },
    "language_info": {
      "name": "python"
    }
  },
  "cells": [
    {
      "cell_type": "markdown",
      "metadata": {
        "id": "view-in-github",
        "colab_type": "text"
      },
      "source": [
        "<a href=\"https://colab.research.google.com/github/patil1306sanjana/Churn_prediction_using_ANN/blob/main/Calculator.ipynb\" target=\"_parent\"><img src=\"https://colab.research.google.com/assets/colab-badge.svg\" alt=\"Open In Colab\"/></a>"
      ]
    },
    {
      "cell_type": "markdown",
      "source": [
        "**Calculator**"
      ],
      "metadata": {
        "id": "SwCp6r90Nbmv"
      }
    },
    {
      "cell_type": "code",
      "source": [
        "def add(P,Q):\n",
        "    return P + Q"
      ],
      "metadata": {
        "id": "9eenpvruNjZa"
      },
      "execution_count": 1,
      "outputs": []
    },
    {
      "cell_type": "code",
      "source": [
        "def substract(P,Q):\n",
        "    return P - Q"
      ],
      "metadata": {
        "id": "FLPkWbf7NwkR"
      },
      "execution_count": 2,
      "outputs": []
    },
    {
      "cell_type": "code",
      "source": [
        "def multiply(P,Q):\n",
        "    return P * Q"
      ],
      "metadata": {
        "id": "j-AyJAg7RoUb"
      },
      "execution_count": 3,
      "outputs": []
    },
    {
      "cell_type": "code",
      "source": [
        "def divide(P,Q):\n",
        "    return P / Q\\"
      ],
      "metadata": {
        "id": "fh2goodJRrV9"
      },
      "execution_count": null,
      "outputs": []
    },
    {
      "cell_type": "code",
      "source": [
        "print(\"Please select the operation.\")\n",
        "print(\"a. Add\")\n",
        "print(\"b. substract\")\n",
        "print(\"c. multiply\")\n",
        "print(\"d.divide\")"
      ],
      "metadata": {
        "colab": {
          "base_uri": "https://localhost:8080/"
        },
        "id": "-Aco_zm2R0UL",
        "outputId": "ed911653-a0b9-4470-b0b3-89c8d0096443"
      },
      "execution_count": 4,
      "outputs": [
        {
          "output_type": "stream",
          "name": "stdout",
          "text": [
            "Please select the operation.\n",
            "a. Add\n",
            "b. substract\n",
            "c. multiply\n",
            "d.divide\n"
          ]
        }
      ]
    },
    {
      "cell_type": "code",
      "source": [
        "choice = input(\"Please enter choice(a/b/c/d):\")"
      ],
      "metadata": {
        "colab": {
          "base_uri": "https://localhost:8080/"
        },
        "id": "zFLKyAJLR5_b",
        "outputId": "f41e351c-1141-4528-d8bc-ad6a0c650c8d"
      },
      "execution_count": 5,
      "outputs": [
        {
          "name": "stdout",
          "output_type": "stream",
          "text": [
            "Please enter choice(a/b/c/d):a\n"
          ]
        }
      ]
    },
    {
      "cell_type": "code",
      "source": [
        "num_1 = int(input(\"Please enter the first number:\"))\n",
        "num_2 = int(input(\"Please enter the second number:\"))"
      ],
      "metadata": {
        "colab": {
          "base_uri": "https://localhost:8080/"
        },
        "id": "sHzGbcWKSID7",
        "outputId": "25a79401-63c3-419f-af21-20b3c446a664"
      },
      "execution_count": 6,
      "outputs": [
        {
          "name": "stdout",
          "output_type": "stream",
          "text": [
            "Please enter the first number:23\n",
            "Please enter the second number:45\n"
          ]
        }
      ]
    },
    {
      "cell_type": "code",
      "source": [
        "if choice =='a':\n",
        "   print(num_1, \" + \", num_2, \" = \",add(num_1,num_2))\n",
        "elif choice =='b':\n",
        "   print(num_1, \" - \", num_2, \" = \",substract(num_1,num_2))\n",
        "elif choice =='c':\n",
        "   print(num_1, \" * \", num_2, \" = \",multiply(num_1,num_2))\n",
        "elif choice =='d':\n",
        "   print(num_1, \" / \", num_2, \" = \",divide(num_1,num_2))\n",
        "else:\n",
        "   print(\"This is an invalid input\")"
      ],
      "metadata": {
        "colab": {
          "base_uri": "https://localhost:8080/"
        },
        "id": "DvtPcuwHSVgs",
        "outputId": "a4c837b4-6848-496f-ac85-f128cc604f77"
      },
      "execution_count": 7,
      "outputs": [
        {
          "output_type": "stream",
          "name": "stdout",
          "text": [
            "23  +  45  =  68\n"
          ]
        }
      ]
    }
  ]
}